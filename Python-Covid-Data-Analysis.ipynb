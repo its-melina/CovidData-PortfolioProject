{
 "cells": [
  {
   "attachments": {},
   "cell_type": "markdown",
   "metadata": {},
   "source": [
    "# Covid Data Analysis\n",
    "\n",
    "A further exploration into data from CovidDeaths.csv and CovidVaccinations.csv. \n",
    "\n",
    "Data was sourced from OurWorldInData.org and was initially queried into smaller sub datasets in SQL to look at features more in depth."
   ]
  },
  {
   "attachments": {},
   "cell_type": "markdown",
   "metadata": {},
   "source": [
    "## 1.   Exploring the Human Development Index in relation to Covid Death Rate\n",
    "\n",
    "The first dataset is the percent of Covid Deaths out of a country's population (total deaths from covid/population) in comparison with the country's Human Development Index. \n",
    "\n",
    "This data was aggregated in SQL from dates ranging from January 2020 - April 2021.\n",
    "\n",
    "The Human Development Index is defined by the United Nations as a marker of a country's quality of life, health and education for its population (United Nations)."
   ]
  },
  {
   "cell_type": "code",
   "execution_count": 106,
   "metadata": {},
   "outputs": [
    {
     "data": {
      "text/html": [
       "<div>\n",
       "<style scoped>\n",
       "    .dataframe tbody tr th:only-of-type {\n",
       "        vertical-align: middle;\n",
       "    }\n",
       "\n",
       "    .dataframe tbody tr th {\n",
       "        vertical-align: top;\n",
       "    }\n",
       "\n",
       "    .dataframe thead th {\n",
       "        text-align: right;\n",
       "    }\n",
       "</style>\n",
       "<table border=\"1\" class=\"dataframe\">\n",
       "  <thead>\n",
       "    <tr style=\"text-align: right;\">\n",
       "      <th></th>\n",
       "      <th>location</th>\n",
       "      <th>percent_deaths</th>\n",
       "      <th>development_index</th>\n",
       "    </tr>\n",
       "  </thead>\n",
       "  <tbody>\n",
       "    <tr>\n",
       "      <th>0</th>\n",
       "      <td>Norway</td>\n",
       "      <td>0.013945</td>\n",
       "      <td>0.957</td>\n",
       "    </tr>\n",
       "    <tr>\n",
       "      <th>1</th>\n",
       "      <td>Ireland</td>\n",
       "      <td>0.099295</td>\n",
       "      <td>0.955</td>\n",
       "    </tr>\n",
       "    <tr>\n",
       "      <th>2</th>\n",
       "      <td>Switzerland</td>\n",
       "      <td>0.122848</td>\n",
       "      <td>0.955</td>\n",
       "    </tr>\n",
       "    <tr>\n",
       "      <th>3</th>\n",
       "      <td>Hong Kong</td>\n",
       "      <td>NaN</td>\n",
       "      <td>0.949</td>\n",
       "    </tr>\n",
       "    <tr>\n",
       "      <th>4</th>\n",
       "      <td>Iceland</td>\n",
       "      <td>0.008498</td>\n",
       "      <td>0.949</td>\n",
       "    </tr>\n",
       "    <tr>\n",
       "      <th>...</th>\n",
       "      <td>...</td>\n",
       "      <td>...</td>\n",
       "      <td>...</td>\n",
       "    </tr>\n",
       "    <tr>\n",
       "      <th>172</th>\n",
       "      <td>Liberia</td>\n",
       "      <td>0.001681</td>\n",
       "      <td>0.480</td>\n",
       "    </tr>\n",
       "    <tr>\n",
       "      <th>173</th>\n",
       "      <td>Guinea-Bissau</td>\n",
       "      <td>0.003404</td>\n",
       "      <td>0.480</td>\n",
       "    </tr>\n",
       "    <tr>\n",
       "      <th>174</th>\n",
       "      <td>Democratic Republic of Congo</td>\n",
       "      <td>0.000855</td>\n",
       "      <td>0.480</td>\n",
       "    </tr>\n",
       "    <tr>\n",
       "      <th>175</th>\n",
       "      <td>Guinea</td>\n",
       "      <td>0.001096</td>\n",
       "      <td>0.477</td>\n",
       "    </tr>\n",
       "    <tr>\n",
       "      <th>176</th>\n",
       "      <td>Yemen</td>\n",
       "      <td>0.004111</td>\n",
       "      <td>0.470</td>\n",
       "    </tr>\n",
       "  </tbody>\n",
       "</table>\n",
       "<p>177 rows × 3 columns</p>\n",
       "</div>"
      ],
      "text/plain": [
       "                         location  percent_deaths  development_index\n",
       "0                          Norway        0.013945              0.957\n",
       "1                         Ireland        0.099295              0.955\n",
       "2                     Switzerland        0.122848              0.955\n",
       "3                       Hong Kong             NaN              0.949\n",
       "4                         Iceland        0.008498              0.949\n",
       "..                            ...             ...                ...\n",
       "172                       Liberia        0.001681              0.480\n",
       "173                 Guinea-Bissau        0.003404              0.480\n",
       "174  Democratic Republic of Congo        0.000855              0.480\n",
       "175                        Guinea        0.001096              0.477\n",
       "176                         Yemen        0.004111              0.470\n",
       "\n",
       "[177 rows x 3 columns]"
      ]
     },
     "execution_count": 106,
     "metadata": {},
     "output_type": "execute_result"
    }
   ],
   "source": [
    "import pandas as pd \n",
    "import matplotlib.pyplot as plt\n",
    "import numpy as np \n",
    "import plotly.express as px\n",
    "import seaborn as sns\n",
    "\n",
    "hdis = pd.read_csv('Location-VS-HDI.csv')\n",
    "\n",
    "hdis.head(177)"
   ]
  },
  {
   "cell_type": "code",
   "execution_count": 61,
   "metadata": {},
   "outputs": [
    {
     "data": {
      "application/vnd.plotly.v1+json": {
       "config": {
        "plotlyServerURL": "https://plot.ly"
       },
       "data": [
        {
         "customdata": [
          [
           "Norway"
          ],
          [
           "Ireland"
          ],
          [
           "Switzerland"
          ],
          [
           "Hong Kong"
          ],
          [
           "Iceland"
          ],
          [
           "Germany"
          ],
          [
           "Sweden"
          ],
          [
           "Australia"
          ],
          [
           "Netherlands"
          ],
          [
           "Denmark"
          ],
          [
           "Finland"
          ],
          [
           "Singapore"
          ],
          [
           "United Kingdom"
          ],
          [
           "Belgium"
          ],
          [
           "New Zealand"
          ],
          [
           "Canada"
          ],
          [
           "United States"
          ],
          [
           "Austria"
          ],
          [
           "Israel"
          ],
          [
           "Japan"
          ],
          [
           "Liechtenstein"
          ],
          [
           "Slovenia"
          ],
          [
           "South Korea"
          ],
          [
           "Luxembourg"
          ],
          [
           "Spain"
          ],
          [
           "France"
          ],
          [
           "Czechia"
          ],
          [
           "Malta"
          ],
          [
           "Estonia"
          ],
          [
           "Italy"
          ],
          [
           "United Arab Emirates"
          ],
          [
           "Greece"
          ],
          [
           "Cyprus"
          ],
          [
           "Lithuania"
          ],
          [
           "Poland"
          ],
          [
           "Andorra"
          ],
          [
           "Latvia"
          ],
          [
           "Portugal"
          ],
          [
           "Slovakia"
          ],
          [
           "Saudi Arabia"
          ],
          [
           "Hungary"
          ],
          [
           "Bahrain"
          ],
          [
           "Chile"
          ],
          [
           "Croatia"
          ],
          [
           "Qatar"
          ],
          [
           "Argentina"
          ],
          [
           "Brunei"
          ],
          [
           "Montenegro"
          ],
          [
           "Romania"
          ],
          [
           "Kazakhstan"
          ],
          [
           "Russia"
          ],
          [
           "Belarus"
          ],
          [
           "Turkey"
          ],
          [
           "Uruguay"
          ],
          [
           "Bulgaria"
          ],
          [
           "Panama"
          ],
          [
           "Bahamas"
          ],
          [
           "Barbados"
          ],
          [
           "Oman"
          ],
          [
           "Georgia"
          ],
          [
           "Malaysia"
          ],
          [
           "Costa Rica"
          ],
          [
           "Serbia"
          ],
          [
           "Kuwait"
          ],
          [
           "Mauritius"
          ],
          [
           "Trinidad and Tobago"
          ],
          [
           "Seychelles"
          ],
          [
           "Albania"
          ],
          [
           "Iran"
          ],
          [
           "Cuba"
          ],
          [
           "Sri Lanka"
          ],
          [
           "Bosnia and Herzegovina"
          ],
          [
           "Ukraine"
          ],
          [
           "Grenada"
          ],
          [
           "Saint Kitts and Nevis"
          ],
          [
           "Mexico"
          ],
          [
           "Antigua and Barbuda"
          ],
          [
           "Peru"
          ],
          [
           "Thailand"
          ],
          [
           "Armenia"
          ],
          [
           "North Macedonia"
          ],
          [
           "Colombia"
          ],
          [
           "Brazil"
          ],
          [
           "China"
          ],
          [
           "Ecuador"
          ],
          [
           "Saint Lucia"
          ],
          [
           "Azerbaijan"
          ],
          [
           "Dominican Republic"
          ],
          [
           "Moldova"
          ],
          [
           "Algeria"
          ],
          [
           "Lebanon"
          ],
          [
           "Fiji"
          ],
          [
           "Dominica"
          ],
          [
           "Tunisia"
          ],
          [
           "Maldives"
          ],
          [
           "Saint Vincent and the Grenadines"
          ],
          [
           "Suriname"
          ],
          [
           "Mongolia"
          ],
          [
           "World"
          ],
          [
           "Botswana"
          ],
          [
           "Jamaica"
          ],
          [
           "Jordan"
          ],
          [
           "Paraguay"
          ],
          [
           "Tonga"
          ],
          [
           "Libya"
          ],
          [
           "Uzbekistan"
          ],
          [
           "Indonesia"
          ],
          [
           "Philippines"
          ],
          [
           "Bolivia"
          ],
          [
           "Belize"
          ],
          [
           "Samoa"
          ],
          [
           "Venezuela"
          ],
          [
           "South Africa"
          ],
          [
           "Palestine"
          ],
          [
           "Egypt"
          ],
          [
           "Marshall Islands"
          ],
          [
           "Vietnam"
          ],
          [
           "Gabon"
          ],
          [
           "Kyrgyzstan"
          ],
          [
           "Morocco"
          ],
          [
           "Guyana"
          ],
          [
           "Iraq"
          ],
          [
           "El Salvador"
          ],
          [
           "Tajikistan"
          ],
          [
           "Cape Verde"
          ],
          [
           "Guatemala"
          ],
          [
           "Nicaragua"
          ],
          [
           "Bhutan"
          ],
          [
           "Namibia"
          ],
          [
           "India"
          ],
          [
           "Honduras"
          ],
          [
           "Bangladesh"
          ],
          [
           "Sao Tome and Principe"
          ],
          [
           "Micronesia (country)"
          ],
          [
           "Laos"
          ],
          [
           "Ghana"
          ],
          [
           "Eswatini"
          ],
          [
           "Vanuatu"
          ],
          [
           "Timor"
          ],
          [
           "Nepal"
          ],
          [
           "Kenya"
          ],
          [
           "Cambodia"
          ],
          [
           "Equatorial Guinea"
          ],
          [
           "Zambia"
          ],
          [
           "Myanmar"
          ],
          [
           "Angola"
          ],
          [
           "Congo"
          ],
          [
           "Zimbabwe"
          ],
          [
           "Syria"
          ],
          [
           "Solomon Islands"
          ],
          [
           "Cameroon"
          ],
          [
           "Pakistan"
          ],
          [
           "Papua New Guinea"
          ],
          [
           "Comoros"
          ],
          [
           "Mauritania"
          ],
          [
           "Benin"
          ],
          [
           "Uganda"
          ],
          [
           "Rwanda"
          ],
          [
           "Nigeria"
          ],
          [
           "Cote d'Ivoire"
          ],
          [
           "Tanzania"
          ],
          [
           "Madagascar"
          ],
          [
           "Lesotho"
          ],
          [
           "Djibouti"
          ],
          [
           "Togo"
          ],
          [
           "Senegal"
          ],
          [
           "Afghanistan"
          ],
          [
           "Haiti"
          ],
          [
           "Sudan"
          ],
          [
           "Gambia"
          ],
          [
           "Ethiopia"
          ],
          [
           "Malawi"
          ],
          [
           "Liberia"
          ],
          [
           "Guinea-Bissau"
          ],
          [
           "Democratic Republic of Congo"
          ],
          [
           "Guinea"
          ],
          [
           "Yemen"
          ],
          [
           "Eritrea"
          ],
          [
           "Mozambique"
          ],
          [
           "Burkina Faso"
          ],
          [
           "Sierra Leone"
          ],
          [
           "Mali"
          ],
          [
           "South Sudan"
          ],
          [
           "Burundi"
          ],
          [
           "Chad"
          ],
          [
           "Central African Republic"
          ],
          [
           "Niger"
          ]
         ],
         "hovertemplate": "development_index=%{x}<br>percent_deaths=%{y}<br>location=%{customdata[0]}<extra></extra>",
         "legendgroup": "",
         "marker": {
          "color": "#636efa",
          "symbol": "circle"
         },
         "mode": "markers",
         "name": "",
         "orientation": "v",
         "showlegend": false,
         "type": "scatter",
         "x": [
          0.957,
          0.955,
          0.955,
          0.949,
          0.949,
          0.947,
          0.945,
          0.944,
          0.944,
          0.94,
          0.938,
          0.938,
          0.932,
          0.931,
          0.931,
          0.929,
          0.926,
          0.922,
          0.919,
          0.919,
          0.919,
          0.917,
          0.916,
          0.916,
          0.904,
          0.901,
          0.9,
          0.895,
          0.892,
          0.892,
          0.89,
          0.888,
          0.887,
          0.882,
          0.88,
          0.868,
          0.866,
          0.864,
          0.86,
          0.854,
          0.854,
          0.852,
          0.851,
          0.851,
          0.848,
          0.845,
          0.838,
          0.829,
          0.828,
          0.825,
          0.824,
          0.823,
          0.82,
          0.817,
          0.816,
          0.815,
          0.814,
          0.814,
          0.813,
          0.812,
          0.81,
          0.81,
          0.806,
          0.806,
          0.804,
          0.796,
          0.796,
          0.795,
          0.783,
          0.783,
          0.782,
          0.78,
          0.779,
          0.779,
          0.779,
          0.779,
          0.778,
          0.777,
          0.777,
          0.776,
          0.774,
          0.767,
          0.765,
          0.761,
          0.759,
          0.759,
          0.756,
          0.756,
          0.75,
          0.748,
          0.744,
          0.743,
          0.742,
          0.74,
          0.74,
          0.738,
          0.738,
          0.737,
          0.737,
          0.735,
          0.734,
          0.729,
          0.728,
          0.725,
          0.724,
          0.72,
          0.718,
          0.718,
          0.718,
          0.716,
          0.715,
          0.711,
          0.709,
          0.708,
          0.707,
          0.704,
          0.704,
          0.703,
          0.697,
          0.686,
          0.682,
          0.674,
          0.673,
          0.668,
          0.665,
          0.663,
          0.66,
          0.654,
          0.646,
          0.645,
          0.634,
          0.632,
          0.625,
          0.62,
          0.613,
          0.611,
          0.611,
          0.609,
          0.606,
          0.602,
          0.601,
          0.594,
          0.592,
          0.584,
          0.583,
          0.581,
          0.574,
          0.571,
          0.567,
          0.567,
          0.563,
          0.557,
          0.555,
          0.554,
          0.546,
          0.545,
          0.544,
          0.543,
          0.539,
          0.538,
          0.529,
          0.528,
          0.527,
          0.524,
          0.515,
          0.512,
          0.511,
          0.51,
          0.51,
          0.496,
          0.485,
          0.483,
          0.48,
          0.48,
          0.48,
          0.477,
          0.47,
          0.459,
          0.456,
          0.452,
          0.452,
          0.434,
          0.433,
          0.433,
          0.398,
          0.397,
          0.394
         ],
         "xaxis": "x",
         "y": [
          0.0139451439356516,
          0.0992953131316077,
          0.1228477097429372,
          null,
          0.0084981684981684,
          0.0991800994808731,
          0.1390991626127433,
          0.0035686441046528,
          0.1015356227034773,
          0.0428852372750057,
          0.0164960570092179,
          0.0005127904466456,
          0.1882199458963588,
          0.2090664608732506,
          0.0005391693018566,
          0.0641722729307707,
          0.1740868253539978,
          0.1133083140877598,
          0.0735136024426433,
          0.0080639513165367,
          0.1494611532107926,
          0.2044318909901815,
          0.0035713461632497,
          0.1271614247191585,
          0.1672898364216555,
          0.1536002241719517,
          0.27329395081624,
          0.0935364712969862,
          0.0875209850596175,
          0.1998070584303207,
          0.0160458626546954,
          0.099596509891149,
          0.0351638716336015,
          0.1441065631851995,
          0.1783568169456679,
          0.16178088397075,
          0.1129783554465534,
          0.1664655069523916,
          0.2140066667362682,
          0.0199834163783069,
          0.2850828386135078,
          0.03796464821287,
          0.1378568313414024,
          0.1724856939912327,
          0.0158969268255433,
          0.1413074500301211,
          0.0006857409316476,
          0.2380338246860978,
          0.1461142771774687,
          0.0177560421004598,
          0.0742045436012851,
          0.0269014038151524,
          0.0475829309328261,
          0.0753081632494436,
          0.2360096395668383,
          0.144434185105665,
          0.0506041988770445,
          0.0153112179029895,
          0.0393606575932191,
          0.1030288217488578,
          0.004653031245939,
          0.063426142406707,
          0.0934956314820159,
          0.0365993898228406,
          0.0013367228430994,
          0.0120758189941914,
          0.0284726459223103,
          0.0831885468065883,
          0.0854333577246653,
          0.0056857229025862,
          0.0031662638786732,
          0.2606364577094411,
          0.1050058377099485,
          0.000888738790782,
          null,
          0.1682326600130845,
          0.0326770688669226,
          0.186453012063686,
          0.0002908310372246,
          0.1386323186086552,
          0.2330347800209275,
          0.1448817248644947,
          0.1899614803690012,
          0.0003354352986599,
          0.1055995955350149,
          0.0402986456387607,
          0.0445499757130141,
          0.0320799299108841,
          0.144076680921466,
          0.0074182956149982,
          0.1066304570458587,
          0.0002231037298481,
          null,
          0.0907212670720045,
          0.0135049635365984,
          0.0099146439290832,
          0.0347746635892225,
          0.0035079242483585,
          0.0407992702642623,
          0.0302769361611651,
          0.0262734785443952,
          0.0866007915210415,
          0.0895194271878281,
          null,
          0.0440819892983657,
          0.0019390963016473,
          0.0166424383508728,
          0.0157271667824789,
          0.1109480666928866,
          0.0812331340648507,
          null,
          0.0075116200647891,
          0.0916391847467883,
          0.0636881995116649,
          0.0130347171713113,
          null,
          0.00003595696477315681,
          0.0062451476550593,
          0.0245854236946772,
          0.0244455800424366,
          0.0376322691622624,
          0.0384486266307196,
          0.0327464412527456,
          0.0009436294631314,
          0.0390296193443023,
          0.0419969962435461,
          0.002747354765317,
          0.0001295988139116,
          0.0252664787029559,
          0.0153516178863446,
          0.0533186169508172,
          0.0069524821767047,
          0.0159699946614589,
          null,
          null,
          0.0025070040834558,
          0.057836650680421,
          0.0003255738238645,
          0.0002275412949526,
          0.0112538065254093,
          0.0050658994668159,
          0.0005562543292885,
          0.0079829791480308,
          0.0068048465738277,
          0.0058978352316496,
          0.0018134094202603,
          0.0026095976652799,
          0.0105430108080326,
          0.0090968013372297,
          null,
          0.0041701411564528,
          0.0081292998804924,
          0.0011959279881462,
          0.016789424962195,
          0.0097856617473105,
          0.0008166162096832,
          0.0007476880697842,
          0.002586431395602,
          0.0010007781765857,
          0.0010842255606175,
          0.00003515573227691139,
          0.0023220525037377,
          0.0147508323017086,
          0.0144736549116297,
          0.0014857338746236,
          0.0066113510985772,
          0.0067431591806082,
          0.0022275752238559,
          0.0053569878211652,
          0.0072000079448363,
          0.0032079723889607,
          0.0060010595947559,
          0.0016806134515905,
          0.0034044750045477,
          0.0008552791334088,
          0.0010964918960111,
          0.0041105120209342,
          0.0002819739416601,
          0.0026043470519607,
          0.0007510783715357,
          0.0009903491105975,
          0.0023900250231669,
          0.001027360944686,
          0.00005045925915211121,
          0.0010349534840156,
          0.0018220351967508,
          0.0007890398318874
         ],
         "yaxis": "y"
        }
       ],
       "layout": {
        "legend": {
         "tracegroupgap": 0
        },
        "template": {
         "data": {
          "bar": [
           {
            "error_x": {
             "color": "#2a3f5f"
            },
            "error_y": {
             "color": "#2a3f5f"
            },
            "marker": {
             "line": {
              "color": "#E5ECF6",
              "width": 0.5
             },
             "pattern": {
              "fillmode": "overlay",
              "size": 10,
              "solidity": 0.2
             }
            },
            "type": "bar"
           }
          ],
          "barpolar": [
           {
            "marker": {
             "line": {
              "color": "#E5ECF6",
              "width": 0.5
             },
             "pattern": {
              "fillmode": "overlay",
              "size": 10,
              "solidity": 0.2
             }
            },
            "type": "barpolar"
           }
          ],
          "carpet": [
           {
            "aaxis": {
             "endlinecolor": "#2a3f5f",
             "gridcolor": "white",
             "linecolor": "white",
             "minorgridcolor": "white",
             "startlinecolor": "#2a3f5f"
            },
            "baxis": {
             "endlinecolor": "#2a3f5f",
             "gridcolor": "white",
             "linecolor": "white",
             "minorgridcolor": "white",
             "startlinecolor": "#2a3f5f"
            },
            "type": "carpet"
           }
          ],
          "choropleth": [
           {
            "colorbar": {
             "outlinewidth": 0,
             "ticks": ""
            },
            "type": "choropleth"
           }
          ],
          "contour": [
           {
            "colorbar": {
             "outlinewidth": 0,
             "ticks": ""
            },
            "colorscale": [
             [
              0,
              "#0d0887"
             ],
             [
              0.1111111111111111,
              "#46039f"
             ],
             [
              0.2222222222222222,
              "#7201a8"
             ],
             [
              0.3333333333333333,
              "#9c179e"
             ],
             [
              0.4444444444444444,
              "#bd3786"
             ],
             [
              0.5555555555555556,
              "#d8576b"
             ],
             [
              0.6666666666666666,
              "#ed7953"
             ],
             [
              0.7777777777777778,
              "#fb9f3a"
             ],
             [
              0.8888888888888888,
              "#fdca26"
             ],
             [
              1,
              "#f0f921"
             ]
            ],
            "type": "contour"
           }
          ],
          "contourcarpet": [
           {
            "colorbar": {
             "outlinewidth": 0,
             "ticks": ""
            },
            "type": "contourcarpet"
           }
          ],
          "heatmap": [
           {
            "colorbar": {
             "outlinewidth": 0,
             "ticks": ""
            },
            "colorscale": [
             [
              0,
              "#0d0887"
             ],
             [
              0.1111111111111111,
              "#46039f"
             ],
             [
              0.2222222222222222,
              "#7201a8"
             ],
             [
              0.3333333333333333,
              "#9c179e"
             ],
             [
              0.4444444444444444,
              "#bd3786"
             ],
             [
              0.5555555555555556,
              "#d8576b"
             ],
             [
              0.6666666666666666,
              "#ed7953"
             ],
             [
              0.7777777777777778,
              "#fb9f3a"
             ],
             [
              0.8888888888888888,
              "#fdca26"
             ],
             [
              1,
              "#f0f921"
             ]
            ],
            "type": "heatmap"
           }
          ],
          "heatmapgl": [
           {
            "colorbar": {
             "outlinewidth": 0,
             "ticks": ""
            },
            "colorscale": [
             [
              0,
              "#0d0887"
             ],
             [
              0.1111111111111111,
              "#46039f"
             ],
             [
              0.2222222222222222,
              "#7201a8"
             ],
             [
              0.3333333333333333,
              "#9c179e"
             ],
             [
              0.4444444444444444,
              "#bd3786"
             ],
             [
              0.5555555555555556,
              "#d8576b"
             ],
             [
              0.6666666666666666,
              "#ed7953"
             ],
             [
              0.7777777777777778,
              "#fb9f3a"
             ],
             [
              0.8888888888888888,
              "#fdca26"
             ],
             [
              1,
              "#f0f921"
             ]
            ],
            "type": "heatmapgl"
           }
          ],
          "histogram": [
           {
            "marker": {
             "pattern": {
              "fillmode": "overlay",
              "size": 10,
              "solidity": 0.2
             }
            },
            "type": "histogram"
           }
          ],
          "histogram2d": [
           {
            "colorbar": {
             "outlinewidth": 0,
             "ticks": ""
            },
            "colorscale": [
             [
              0,
              "#0d0887"
             ],
             [
              0.1111111111111111,
              "#46039f"
             ],
             [
              0.2222222222222222,
              "#7201a8"
             ],
             [
              0.3333333333333333,
              "#9c179e"
             ],
             [
              0.4444444444444444,
              "#bd3786"
             ],
             [
              0.5555555555555556,
              "#d8576b"
             ],
             [
              0.6666666666666666,
              "#ed7953"
             ],
             [
              0.7777777777777778,
              "#fb9f3a"
             ],
             [
              0.8888888888888888,
              "#fdca26"
             ],
             [
              1,
              "#f0f921"
             ]
            ],
            "type": "histogram2d"
           }
          ],
          "histogram2dcontour": [
           {
            "colorbar": {
             "outlinewidth": 0,
             "ticks": ""
            },
            "colorscale": [
             [
              0,
              "#0d0887"
             ],
             [
              0.1111111111111111,
              "#46039f"
             ],
             [
              0.2222222222222222,
              "#7201a8"
             ],
             [
              0.3333333333333333,
              "#9c179e"
             ],
             [
              0.4444444444444444,
              "#bd3786"
             ],
             [
              0.5555555555555556,
              "#d8576b"
             ],
             [
              0.6666666666666666,
              "#ed7953"
             ],
             [
              0.7777777777777778,
              "#fb9f3a"
             ],
             [
              0.8888888888888888,
              "#fdca26"
             ],
             [
              1,
              "#f0f921"
             ]
            ],
            "type": "histogram2dcontour"
           }
          ],
          "mesh3d": [
           {
            "colorbar": {
             "outlinewidth": 0,
             "ticks": ""
            },
            "type": "mesh3d"
           }
          ],
          "parcoords": [
           {
            "line": {
             "colorbar": {
              "outlinewidth": 0,
              "ticks": ""
             }
            },
            "type": "parcoords"
           }
          ],
          "pie": [
           {
            "automargin": true,
            "type": "pie"
           }
          ],
          "scatter": [
           {
            "fillpattern": {
             "fillmode": "overlay",
             "size": 10,
             "solidity": 0.2
            },
            "type": "scatter"
           }
          ],
          "scatter3d": [
           {
            "line": {
             "colorbar": {
              "outlinewidth": 0,
              "ticks": ""
             }
            },
            "marker": {
             "colorbar": {
              "outlinewidth": 0,
              "ticks": ""
             }
            },
            "type": "scatter3d"
           }
          ],
          "scattercarpet": [
           {
            "marker": {
             "colorbar": {
              "outlinewidth": 0,
              "ticks": ""
             }
            },
            "type": "scattercarpet"
           }
          ],
          "scattergeo": [
           {
            "marker": {
             "colorbar": {
              "outlinewidth": 0,
              "ticks": ""
             }
            },
            "type": "scattergeo"
           }
          ],
          "scattergl": [
           {
            "marker": {
             "colorbar": {
              "outlinewidth": 0,
              "ticks": ""
             }
            },
            "type": "scattergl"
           }
          ],
          "scattermapbox": [
           {
            "marker": {
             "colorbar": {
              "outlinewidth": 0,
              "ticks": ""
             }
            },
            "type": "scattermapbox"
           }
          ],
          "scatterpolar": [
           {
            "marker": {
             "colorbar": {
              "outlinewidth": 0,
              "ticks": ""
             }
            },
            "type": "scatterpolar"
           }
          ],
          "scatterpolargl": [
           {
            "marker": {
             "colorbar": {
              "outlinewidth": 0,
              "ticks": ""
             }
            },
            "type": "scatterpolargl"
           }
          ],
          "scatterternary": [
           {
            "marker": {
             "colorbar": {
              "outlinewidth": 0,
              "ticks": ""
             }
            },
            "type": "scatterternary"
           }
          ],
          "surface": [
           {
            "colorbar": {
             "outlinewidth": 0,
             "ticks": ""
            },
            "colorscale": [
             [
              0,
              "#0d0887"
             ],
             [
              0.1111111111111111,
              "#46039f"
             ],
             [
              0.2222222222222222,
              "#7201a8"
             ],
             [
              0.3333333333333333,
              "#9c179e"
             ],
             [
              0.4444444444444444,
              "#bd3786"
             ],
             [
              0.5555555555555556,
              "#d8576b"
             ],
             [
              0.6666666666666666,
              "#ed7953"
             ],
             [
              0.7777777777777778,
              "#fb9f3a"
             ],
             [
              0.8888888888888888,
              "#fdca26"
             ],
             [
              1,
              "#f0f921"
             ]
            ],
            "type": "surface"
           }
          ],
          "table": [
           {
            "cells": {
             "fill": {
              "color": "#EBF0F8"
             },
             "line": {
              "color": "white"
             }
            },
            "header": {
             "fill": {
              "color": "#C8D4E3"
             },
             "line": {
              "color": "white"
             }
            },
            "type": "table"
           }
          ]
         },
         "layout": {
          "annotationdefaults": {
           "arrowcolor": "#2a3f5f",
           "arrowhead": 0,
           "arrowwidth": 1
          },
          "autotypenumbers": "strict",
          "coloraxis": {
           "colorbar": {
            "outlinewidth": 0,
            "ticks": ""
           }
          },
          "colorscale": {
           "diverging": [
            [
             0,
             "#8e0152"
            ],
            [
             0.1,
             "#c51b7d"
            ],
            [
             0.2,
             "#de77ae"
            ],
            [
             0.3,
             "#f1b6da"
            ],
            [
             0.4,
             "#fde0ef"
            ],
            [
             0.5,
             "#f7f7f7"
            ],
            [
             0.6,
             "#e6f5d0"
            ],
            [
             0.7,
             "#b8e186"
            ],
            [
             0.8,
             "#7fbc41"
            ],
            [
             0.9,
             "#4d9221"
            ],
            [
             1,
             "#276419"
            ]
           ],
           "sequential": [
            [
             0,
             "#0d0887"
            ],
            [
             0.1111111111111111,
             "#46039f"
            ],
            [
             0.2222222222222222,
             "#7201a8"
            ],
            [
             0.3333333333333333,
             "#9c179e"
            ],
            [
             0.4444444444444444,
             "#bd3786"
            ],
            [
             0.5555555555555556,
             "#d8576b"
            ],
            [
             0.6666666666666666,
             "#ed7953"
            ],
            [
             0.7777777777777778,
             "#fb9f3a"
            ],
            [
             0.8888888888888888,
             "#fdca26"
            ],
            [
             1,
             "#f0f921"
            ]
           ],
           "sequentialminus": [
            [
             0,
             "#0d0887"
            ],
            [
             0.1111111111111111,
             "#46039f"
            ],
            [
             0.2222222222222222,
             "#7201a8"
            ],
            [
             0.3333333333333333,
             "#9c179e"
            ],
            [
             0.4444444444444444,
             "#bd3786"
            ],
            [
             0.5555555555555556,
             "#d8576b"
            ],
            [
             0.6666666666666666,
             "#ed7953"
            ],
            [
             0.7777777777777778,
             "#fb9f3a"
            ],
            [
             0.8888888888888888,
             "#fdca26"
            ],
            [
             1,
             "#f0f921"
            ]
           ]
          },
          "colorway": [
           "#636efa",
           "#EF553B",
           "#00cc96",
           "#ab63fa",
           "#FFA15A",
           "#19d3f3",
           "#FF6692",
           "#B6E880",
           "#FF97FF",
           "#FECB52"
          ],
          "font": {
           "color": "#2a3f5f"
          },
          "geo": {
           "bgcolor": "white",
           "lakecolor": "white",
           "landcolor": "#E5ECF6",
           "showlakes": true,
           "showland": true,
           "subunitcolor": "white"
          },
          "hoverlabel": {
           "align": "left"
          },
          "hovermode": "closest",
          "mapbox": {
           "style": "light"
          },
          "paper_bgcolor": "white",
          "plot_bgcolor": "#E5ECF6",
          "polar": {
           "angularaxis": {
            "gridcolor": "white",
            "linecolor": "white",
            "ticks": ""
           },
           "bgcolor": "#E5ECF6",
           "radialaxis": {
            "gridcolor": "white",
            "linecolor": "white",
            "ticks": ""
           }
          },
          "scene": {
           "xaxis": {
            "backgroundcolor": "#E5ECF6",
            "gridcolor": "white",
            "gridwidth": 2,
            "linecolor": "white",
            "showbackground": true,
            "ticks": "",
            "zerolinecolor": "white"
           },
           "yaxis": {
            "backgroundcolor": "#E5ECF6",
            "gridcolor": "white",
            "gridwidth": 2,
            "linecolor": "white",
            "showbackground": true,
            "ticks": "",
            "zerolinecolor": "white"
           },
           "zaxis": {
            "backgroundcolor": "#E5ECF6",
            "gridcolor": "white",
            "gridwidth": 2,
            "linecolor": "white",
            "showbackground": true,
            "ticks": "",
            "zerolinecolor": "white"
           }
          },
          "shapedefaults": {
           "line": {
            "color": "#2a3f5f"
           }
          },
          "ternary": {
           "aaxis": {
            "gridcolor": "white",
            "linecolor": "white",
            "ticks": ""
           },
           "baxis": {
            "gridcolor": "white",
            "linecolor": "white",
            "ticks": ""
           },
           "bgcolor": "#E5ECF6",
           "caxis": {
            "gridcolor": "white",
            "linecolor": "white",
            "ticks": ""
           }
          },
          "title": {
           "x": 0.05
          },
          "xaxis": {
           "automargin": true,
           "gridcolor": "white",
           "linecolor": "white",
           "ticks": "",
           "title": {
            "standoff": 15
           },
           "zerolinecolor": "white",
           "zerolinewidth": 2
          },
          "yaxis": {
           "automargin": true,
           "gridcolor": "white",
           "linecolor": "white",
           "ticks": "",
           "title": {
            "standoff": 15
           },
           "zerolinecolor": "white",
           "zerolinewidth": 2
          }
         }
        },
        "title": {
         "text": "HDI Vs Covid Death %"
        },
        "xaxis": {
         "anchor": "y",
         "domain": [
          0,
          1
         ],
         "title": {
          "text": "development_index"
         }
        },
        "yaxis": {
         "anchor": "x",
         "domain": [
          0,
          1
         ],
         "title": {
          "text": "percent_deaths"
         }
        }
       }
      }
     },
     "metadata": {},
     "output_type": "display_data"
    }
   ],
   "source": [
    "# interactive plot using plotly to view stats for each country\n",
    "\n",
    "fig = px.scatter(hdis, x='development_index', y='percent_deaths', hover_data=['location'], title='HDI Vs Covid Death %')\n",
    "fig.show()"
   ]
  },
  {
   "cell_type": "code",
   "execution_count": 60,
   "metadata": {},
   "outputs": [
    {
     "data": {
      "text/plain": [
       "Text(0.5, 1.0, 'HDI vs Covid Death %')"
      ]
     },
     "execution_count": 60,
     "metadata": {},
     "output_type": "execute_result"
    },
    {
     "data": {
      "image/png": "[encoded data removed]",
      "text/plain": [
       "<Figure size 640x480 with 1 Axes>"
      ]
     },
     "metadata": {},
     "output_type": "display_data"
    }
   ],
   "source": [
    "plt.scatter(hdis['development_index'], hdis['percent_deaths'])\n",
    "\n",
    "plt.xlabel('Human Development Index')\n",
    "plt.ylabel('Percent of Deaths out of all Covid Cases')\n",
    "plt.title('HDI vs Covid Death %')"
   ]
  },
  {
   "cell_type": "code",
   "execution_count": 62,
   "metadata": {},
   "outputs": [
    {
     "data": {
      "text/plain": [
       "0.550924100333604"
      ]
     },
     "execution_count": 62,
     "metadata": {},
     "output_type": "execute_result"
    }
   ],
   "source": [
    "corr_coeff = hdis['development_index'].corr((hdis['percent_deaths']))\n",
    "corr_coeff"
   ]
  },
  {
   "attachments": {},
   "cell_type": "markdown",
   "metadata": {},
   "source": [
    "### Analyzing the Initial Scatter\n",
    "\n",
    "Based on the plots and the correlation coefficient of 0.55, HDI and Death Percentage seem to have a slight positive linear relationship.\n",
    "Next, a logarithmic transformation of the Death % is used to further linearize the data."
   ]
  },
  {
   "cell_type": "code",
   "execution_count": 59,
   "metadata": {},
   "outputs": [
    {
     "data": {
      "text/plain": [
       "Text(0.5, 1.0, 'HDI vs Log Covid Death %')"
      ]
     },
     "execution_count": 59,
     "metadata": {},
     "output_type": "execute_result"
    },
    {
     "data": {
      "image/png": "[encoded data removed]",
      "text/plain": [
       "<Figure size 640x480 with 1 Axes>"
      ]
     },
     "metadata": {},
     "output_type": "display_data"
    }
   ],
   "source": [
    "# using a log transformation to linearize the data \n",
    "\n",
    "plt.scatter(hdis['development_index'], np.log(hdis['percent_deaths']))\n",
    "\n",
    "plt.xlabel('Human Development Index')\n",
    "plt.ylabel('Log Percent of Deaths out of all Covid Cases')\n",
    "plt.title('HDI vs Log Covid Death %')"
   ]
  },
  {
   "cell_type": "code",
   "execution_count": 63,
   "metadata": {},
   "outputs": [
    {
     "data": {
      "text/plain": [
       "0.603144028133324"
      ]
     },
     "execution_count": 63,
     "metadata": {},
     "output_type": "execute_result"
    }
   ],
   "source": [
    "corr_coeff = hdis['development_index'].corr(np.log(hdis['percent_deaths']))\n",
    "corr_coeff"
   ]
  },
  {
   "attachments": {},
   "cell_type": "markdown",
   "metadata": {},
   "source": [
    "### The Correlation Coefficient\n",
    "Linearizing the data reveals a stronger underlying relationship. \n",
    "\n",
    "The Correlation Coefficient between Human Development Index and Log Percent of Covid Deaths is approximately 0.6, indicating a moderate positive correlation between these attributes for a location.\n",
    "\n",
    "This indicates that as Human Development Index increases for a country/location, the percent of Covid deaths per total cases also tends to increase.\n",
    "\n",
    "## 2. Exploring Other Factors in Relation to Covid Death Rate\n",
    "\n",
    "### Initial Hypothesis\n",
    "The fact that countries with a higher HDI tend to have a higher death rate could be due to multiple reasons, such that more developed countries tend to have higher rates of cardiovascular disease, and higher proportions of older individuals than developing nations. \n",
    "\n",
    "Data containing these statistics and others is stored in Country-Statistics-CovidData.csv and was queried from the CovidDeaths.csv dataset in Postgre."
   ]
  },
  {
   "cell_type": "code",
   "execution_count": 65,
   "metadata": {},
   "outputs": [
    {
     "data": {
      "text/html": [
       "<div>\n",
       "<style scoped>\n",
       "    .dataframe tbody tr th:only-of-type {\n",
       "        vertical-align: middle;\n",
       "    }\n",
       "\n",
       "    .dataframe tbody tr th {\n",
       "        vertical-align: top;\n",
       "    }\n",
       "\n",
       "    .dataframe thead th {\n",
       "        text-align: right;\n",
       "    }\n",
       "</style>\n",
       "<table border=\"1\" class=\"dataframe\">\n",
       "  <thead>\n",
       "    <tr style=\"text-align: right;\">\n",
       "      <th></th>\n",
       "      <th>location</th>\n",
       "      <th>cdr</th>\n",
       "      <th>65_Older</th>\n",
       "      <th>70_Older</th>\n",
       "      <th>diabetes</th>\n",
       "      <th>female_smokers</th>\n",
       "      <th>male_smokers</th>\n",
       "    </tr>\n",
       "  </thead>\n",
       "  <tbody>\n",
       "    <tr>\n",
       "      <th>0</th>\n",
       "      <td>Uzbekistan</td>\n",
       "      <td>724.417</td>\n",
       "      <td>4.469</td>\n",
       "      <td>2.873</td>\n",
       "      <td>7.57</td>\n",
       "      <td>1.3</td>\n",
       "      <td>24.7</td>\n",
       "    </tr>\n",
       "    <tr>\n",
       "      <th>1</th>\n",
       "      <td>Afghanistan</td>\n",
       "      <td>597.029</td>\n",
       "      <td>2.581</td>\n",
       "      <td>1.337</td>\n",
       "      <td>9.59</td>\n",
       "      <td>NaN</td>\n",
       "      <td>NaN</td>\n",
       "    </tr>\n",
       "    <tr>\n",
       "      <th>2</th>\n",
       "      <td>Papua New Guinea</td>\n",
       "      <td>561.494</td>\n",
       "      <td>3.808</td>\n",
       "      <td>2.142</td>\n",
       "      <td>17.65</td>\n",
       "      <td>23.5</td>\n",
       "      <td>48.8</td>\n",
       "    </tr>\n",
       "    <tr>\n",
       "      <th>3</th>\n",
       "      <td>Azerbaijan</td>\n",
       "      <td>559.812</td>\n",
       "      <td>6.018</td>\n",
       "      <td>3.871</td>\n",
       "      <td>7.11</td>\n",
       "      <td>0.3</td>\n",
       "      <td>42.5</td>\n",
       "    </tr>\n",
       "    <tr>\n",
       "      <th>4</th>\n",
       "      <td>Marshall Islands</td>\n",
       "      <td>557.793</td>\n",
       "      <td>NaN</td>\n",
       "      <td>NaN</td>\n",
       "      <td>30.53</td>\n",
       "      <td>NaN</td>\n",
       "      <td>NaN</td>\n",
       "    </tr>\n",
       "    <tr>\n",
       "      <th>5</th>\n",
       "      <td>Vanuatu</td>\n",
       "      <td>546.300</td>\n",
       "      <td>4.394</td>\n",
       "      <td>2.620</td>\n",
       "      <td>12.02</td>\n",
       "      <td>2.8</td>\n",
       "      <td>34.5</td>\n",
       "    </tr>\n",
       "    <tr>\n",
       "      <th>6</th>\n",
       "      <td>Ukraine</td>\n",
       "      <td>539.849</td>\n",
       "      <td>16.462</td>\n",
       "      <td>11.133</td>\n",
       "      <td>7.11</td>\n",
       "      <td>13.5</td>\n",
       "      <td>47.4</td>\n",
       "    </tr>\n",
       "    <tr>\n",
       "      <th>7</th>\n",
       "      <td>Egypt</td>\n",
       "      <td>525.432</td>\n",
       "      <td>5.159</td>\n",
       "      <td>2.891</td>\n",
       "      <td>17.31</td>\n",
       "      <td>0.2</td>\n",
       "      <td>50.1</td>\n",
       "    </tr>\n",
       "    <tr>\n",
       "      <th>8</th>\n",
       "      <td>Georgia</td>\n",
       "      <td>496.218</td>\n",
       "      <td>14.864</td>\n",
       "      <td>10.244</td>\n",
       "      <td>7.11</td>\n",
       "      <td>5.3</td>\n",
       "      <td>55.5</td>\n",
       "    </tr>\n",
       "    <tr>\n",
       "      <th>9</th>\n",
       "      <td>Yemen</td>\n",
       "      <td>495.003</td>\n",
       "      <td>2.922</td>\n",
       "      <td>1.583</td>\n",
       "      <td>5.35</td>\n",
       "      <td>7.6</td>\n",
       "      <td>29.2</td>\n",
       "    </tr>\n",
       "  </tbody>\n",
       "</table>\n",
       "</div>"
      ],
      "text/plain": [
       "           location      cdr  65_Older  70_Older  diabetes  female_smokers  \\\n",
       "0        Uzbekistan  724.417     4.469     2.873      7.57             1.3   \n",
       "1       Afghanistan  597.029     2.581     1.337      9.59             NaN   \n",
       "2  Papua New Guinea  561.494     3.808     2.142     17.65            23.5   \n",
       "3        Azerbaijan  559.812     6.018     3.871      7.11             0.3   \n",
       "4  Marshall Islands  557.793       NaN       NaN     30.53             NaN   \n",
       "5           Vanuatu  546.300     4.394     2.620     12.02             2.8   \n",
       "6           Ukraine  539.849    16.462    11.133      7.11            13.5   \n",
       "7             Egypt  525.432     5.159     2.891     17.31             0.2   \n",
       "8           Georgia  496.218    14.864    10.244      7.11             5.3   \n",
       "9             Yemen  495.003     2.922     1.583      5.35             7.6   \n",
       "\n",
       "   male_smokers  \n",
       "0          24.7  \n",
       "1           NaN  \n",
       "2          48.8  \n",
       "3          42.5  \n",
       "4           NaN  \n",
       "5          34.5  \n",
       "6          47.4  \n",
       "7          50.1  \n",
       "8          55.5  \n",
       "9          29.2  "
      ]
     },
     "execution_count": 65,
     "metadata": {},
     "output_type": "execute_result"
    }
   ],
   "source": [
    "countries = pd.read_csv('Country-Statistics-CovidData.csv')\n",
    "countries.head(10)"
   ]
  },
  {
   "attachments": {},
   "cell_type": "markdown",
   "metadata": {},
   "source": [
    "### Merging the Tables\n",
    "Both tables are aggregated by location, so location serves as a primary key to merge them on."
   ]
  },
  {
   "cell_type": "code",
   "execution_count": 66,
   "metadata": {},
   "outputs": [
    {
     "data": {
      "text/html": [
       "<div>\n",
       "<style scoped>\n",
       "    .dataframe tbody tr th:only-of-type {\n",
       "        vertical-align: middle;\n",
       "    }\n",
       "\n",
       "    .dataframe tbody tr th {\n",
       "        vertical-align: top;\n",
       "    }\n",
       "\n",
       "    .dataframe thead th {\n",
       "        text-align: right;\n",
       "    }\n",
       "</style>\n",
       "<table border=\"1\" class=\"dataframe\">\n",
       "  <thead>\n",
       "    <tr style=\"text-align: right;\">\n",
       "      <th></th>\n",
       "      <th>location</th>\n",
       "      <th>cdr</th>\n",
       "      <th>65_Older</th>\n",
       "      <th>70_Older</th>\n",
       "      <th>diabetes</th>\n",
       "      <th>female_smokers</th>\n",
       "      <th>male_smokers</th>\n",
       "      <th>percent_deaths</th>\n",
       "      <th>development_index</th>\n",
       "    </tr>\n",
       "  </thead>\n",
       "  <tbody>\n",
       "    <tr>\n",
       "      <th>0</th>\n",
       "      <td>Uzbekistan</td>\n",
       "      <td>724.417</td>\n",
       "      <td>4.469</td>\n",
       "      <td>2.873</td>\n",
       "      <td>7.57</td>\n",
       "      <td>1.3</td>\n",
       "      <td>24.7</td>\n",
       "      <td>0.001939</td>\n",
       "      <td>0.720</td>\n",
       "    </tr>\n",
       "    <tr>\n",
       "      <th>1</th>\n",
       "      <td>Afghanistan</td>\n",
       "      <td>597.029</td>\n",
       "      <td>2.581</td>\n",
       "      <td>1.337</td>\n",
       "      <td>9.59</td>\n",
       "      <td>NaN</td>\n",
       "      <td>NaN</td>\n",
       "      <td>0.006743</td>\n",
       "      <td>0.511</td>\n",
       "    </tr>\n",
       "    <tr>\n",
       "      <th>2</th>\n",
       "      <td>Papua New Guinea</td>\n",
       "      <td>561.494</td>\n",
       "      <td>3.808</td>\n",
       "      <td>2.142</td>\n",
       "      <td>17.65</td>\n",
       "      <td>23.5</td>\n",
       "      <td>48.8</td>\n",
       "      <td>0.001196</td>\n",
       "      <td>0.555</td>\n",
       "    </tr>\n",
       "    <tr>\n",
       "      <th>3</th>\n",
       "      <td>Azerbaijan</td>\n",
       "      <td>559.812</td>\n",
       "      <td>6.018</td>\n",
       "      <td>3.871</td>\n",
       "      <td>7.11</td>\n",
       "      <td>0.3</td>\n",
       "      <td>42.5</td>\n",
       "      <td>0.044550</td>\n",
       "      <td>0.756</td>\n",
       "    </tr>\n",
       "    <tr>\n",
       "      <th>4</th>\n",
       "      <td>Marshall Islands</td>\n",
       "      <td>557.793</td>\n",
       "      <td>NaN</td>\n",
       "      <td>NaN</td>\n",
       "      <td>30.53</td>\n",
       "      <td>NaN</td>\n",
       "      <td>NaN</td>\n",
       "      <td>NaN</td>\n",
       "      <td>0.704</td>\n",
       "    </tr>\n",
       "    <tr>\n",
       "      <th>5</th>\n",
       "      <td>Vanuatu</td>\n",
       "      <td>546.300</td>\n",
       "      <td>4.394</td>\n",
       "      <td>2.620</td>\n",
       "      <td>12.02</td>\n",
       "      <td>2.8</td>\n",
       "      <td>34.5</td>\n",
       "      <td>0.000326</td>\n",
       "      <td>0.609</td>\n",
       "    </tr>\n",
       "    <tr>\n",
       "      <th>6</th>\n",
       "      <td>Ukraine</td>\n",
       "      <td>539.849</td>\n",
       "      <td>16.462</td>\n",
       "      <td>11.133</td>\n",
       "      <td>7.11</td>\n",
       "      <td>13.5</td>\n",
       "      <td>47.4</td>\n",
       "      <td>0.105006</td>\n",
       "      <td>0.779</td>\n",
       "    </tr>\n",
       "    <tr>\n",
       "      <th>7</th>\n",
       "      <td>Egypt</td>\n",
       "      <td>525.432</td>\n",
       "      <td>5.159</td>\n",
       "      <td>2.891</td>\n",
       "      <td>17.31</td>\n",
       "      <td>0.2</td>\n",
       "      <td>50.1</td>\n",
       "      <td>0.013035</td>\n",
       "      <td>0.707</td>\n",
       "    </tr>\n",
       "    <tr>\n",
       "      <th>8</th>\n",
       "      <td>Georgia</td>\n",
       "      <td>496.218</td>\n",
       "      <td>14.864</td>\n",
       "      <td>10.244</td>\n",
       "      <td>7.11</td>\n",
       "      <td>5.3</td>\n",
       "      <td>55.5</td>\n",
       "      <td>0.103029</td>\n",
       "      <td>0.812</td>\n",
       "    </tr>\n",
       "    <tr>\n",
       "      <th>9</th>\n",
       "      <td>Yemen</td>\n",
       "      <td>495.003</td>\n",
       "      <td>2.922</td>\n",
       "      <td>1.583</td>\n",
       "      <td>5.35</td>\n",
       "      <td>7.6</td>\n",
       "      <td>29.2</td>\n",
       "      <td>0.004111</td>\n",
       "      <td>0.470</td>\n",
       "    </tr>\n",
       "  </tbody>\n",
       "</table>\n",
       "</div>"
      ],
      "text/plain": [
       "           location      cdr  65_Older  70_Older  diabetes  female_smokers  \\\n",
       "0        Uzbekistan  724.417     4.469     2.873      7.57             1.3   \n",
       "1       Afghanistan  597.029     2.581     1.337      9.59             NaN   \n",
       "2  Papua New Guinea  561.494     3.808     2.142     17.65            23.5   \n",
       "3        Azerbaijan  559.812     6.018     3.871      7.11             0.3   \n",
       "4  Marshall Islands  557.793       NaN       NaN     30.53             NaN   \n",
       "5           Vanuatu  546.300     4.394     2.620     12.02             2.8   \n",
       "6           Ukraine  539.849    16.462    11.133      7.11            13.5   \n",
       "7             Egypt  525.432     5.159     2.891     17.31             0.2   \n",
       "8           Georgia  496.218    14.864    10.244      7.11             5.3   \n",
       "9             Yemen  495.003     2.922     1.583      5.35             7.6   \n",
       "\n",
       "   male_smokers  percent_deaths  development_index  \n",
       "0          24.7        0.001939              0.720  \n",
       "1           NaN        0.006743              0.511  \n",
       "2          48.8        0.001196              0.555  \n",
       "3          42.5        0.044550              0.756  \n",
       "4           NaN             NaN              0.704  \n",
       "5          34.5        0.000326              0.609  \n",
       "6          47.4        0.105006              0.779  \n",
       "7          50.1        0.013035              0.707  \n",
       "8          55.5        0.103029              0.812  \n",
       "9          29.2        0.004111              0.470  "
      ]
     },
     "execution_count": 66,
     "metadata": {},
     "output_type": "execute_result"
    }
   ],
   "source": [
    "countries_merged = pd.merge(countries, hdis, on='location')\n",
    "countries_merged.head(10) "
   ]
  },
  {
   "cell_type": "code",
   "execution_count": 97,
   "metadata": {},
   "outputs": [
    {
     "data": {
      "image/png": "[encoded data removed]",
      "text/plain": [
       "<Figure size 2000x2000 with 6 Axes>"
      ]
     },
     "metadata": {},
     "output_type": "display_data"
    }
   ],
   "source": [
    "## Comparing stats with Covid Death Rates via scatterplots\n",
    "\n",
    "fig, axes = plt.subplots(nrows = 3, ncols = 2, figsize = (20,20))\n",
    "\n",
    "axes = axes.flatten() \n",
    "\n",
    "axes[0].scatter(countries_merged['diabetes'], countries_merged['percent_deaths'])\n",
    "axes[0].set_title(\"Diabetes % vs Percent Deaths\")\n",
    "axes[1].scatter(countries_merged['65_Older'], countries_merged['percent_deaths'])\n",
    "axes[1].set_title(\"65 or Older % vs Percent Deaths\")\n",
    "axes[2].scatter(countries_merged['70_Older'], countries_merged['percent_deaths'])\n",
    "axes[2].set_title(\"70 or Older % vs Percent Deaths\")\n",
    "axes[3].scatter(countries_merged['female_smokers'], countries_merged['percent_deaths'])\n",
    "axes[3].set_title(\"Smokers (Female) % vs Percent Deaths\")\n",
    "axes[4].scatter(countries_merged['male_smokers'], countries_merged['percent_deaths'])\n",
    "axes[4].set_title(\"Smokers (Male) % vs Percent Deaths\")\n",
    "axes[5].scatter(countries_merged['cdr'], countries_merged['percent_deaths'])\n",
    "axes[5].set_title(\" cdr vs Percent Deaths\")\n",
    "\n",
    "plt.tight_layout()\n",
    "plt.show()"
   ]
  },
  {
   "cell_type": "code",
   "execution_count": 105,
   "metadata": {},
   "outputs": [
    {
     "data": {
      "text/plain": [
       "<AxesSubplot:>"
      ]
     },
     "execution_count": 105,
     "metadata": {},
     "output_type": "execute_result"
    },
    {
     "data": {
      "image/png": "[encoded data removed]",
      "text/plain": [
       "<Figure size 640x480 with 2 Axes>"
      ]
     },
     "metadata": {},
     "output_type": "display_data"
    }
   ],
   "source": [
    "## heatmap to see correlation coefficients for every statistic in relation to Covid Death Percentage\n",
    "\n",
    "cols = [col for col in countries_merged.columns if countries_merged[col].dtype == float]\n",
    "\n",
    "correlations = countries_merged[cols].corr()\n",
    "\n",
    "sns.heatmap(correlations, annot = True) "
   ]
  },
  {
   "attachments": {},
   "cell_type": "markdown",
   "metadata": {},
   "source": [
    "### Analyzing the Heatmap and Scatterplots\n",
    "The heatmap indicates that there is a moderate positive correlation between the percent of Covid deaths for a country and the percent of individuals aged 65 or older and the percent of those aged 70 or older, as the Correlation Coefficient for these two relationships is 0.64.\n",
    "\n",
    "This makes sense because of the well-recorded mortality rates Covid-19 has for elderly individuals."
   ]
  },
  {
   "cell_type": "code",
   "execution_count": 112,
   "metadata": {},
   "outputs": [
    {
     "data": {
      "application/vnd.plotly.v1+json": {
       "config": {
        "plotlyServerURL": "https://plot.ly"
       },
       "data": [
        {
         "customdata": [
          [
           "Uzbekistan"
          ],
          [
           "Afghanistan"
          ],
          [
           "Papua New Guinea"
          ],
          [
           "Azerbaijan"
          ],
          [
           "Marshall Islands"
          ],
          [
           "Vanuatu"
          ],
          [
           "Ukraine"
          ],
          [
           "Egypt"
          ],
          [
           "Georgia"
          ],
          [
           "Yemen"
          ],
          [
           "Kazakhstan"
          ],
          [
           "Mongolia"
          ],
          [
           "Solomon Islands"
          ],
          [
           "Micronesia (country)"
          ],
          [
           "Belarus"
          ],
          [
           "Serbia"
          ],
          [
           "Kyrgyzstan"
          ],
          [
           "Central African Republic"
          ],
          [
           "Sudan"
          ],
          [
           "Russia"
          ],
          [
           "Haiti"
          ],
          [
           "Tajikistan"
          ],
          [
           "Bulgaria"
          ],
          [
           "Pakistan"
          ],
          [
           "Morocco"
          ],
          [
           "Fiji"
          ],
          [
           "Moldova"
          ],
          [
           "Madagascar"
          ],
          [
           "Lesotho"
          ],
          [
           "Montenegro"
          ],
          [
           "Guinea-Bissau"
          ],
          [
           "Syria"
          ],
          [
           "Guyana"
          ],
          [
           "Romania"
          ],
          [
           "Philippines"
          ],
          [
           "Laos"
          ],
          [
           "Latvia"
          ],
          [
           "Samoa"
          ],
          [
           "Congo"
          ],
          [
           "Lithuania"
          ],
          [
           "Indonesia"
          ],
          [
           "Libya"
          ],
          [
           "Armenia"
          ],
          [
           "Guinea"
          ],
          [
           "Timor"
          ],
          [
           "Eswatini"
          ],
          [
           "Gambia"
          ],
          [
           "Mozambique"
          ],
          [
           "Bosnia and Herzegovina"
          ],
          [
           "Sierra Leone"
          ],
          [
           "North Macedonia"
          ],
          [
           "Tunisia"
          ],
          [
           "Democratic Republic of Congo"
          ],
          [
           "United Arab Emirates"
          ],
          [
           "Eritrea"
          ],
          [
           "Zimbabwe"
          ],
          [
           "Albania"
          ],
          [
           "Cote d'Ivoire"
          ],
          [
           "Ghana"
          ],
          [
           "Bangladesh"
          ],
          [
           "Burundi"
          ],
          [
           "Slovakia"
          ],
          [
           "India"
          ],
          [
           "Chad"
          ],
          [
           "South Sudan"
          ],
          [
           "Togo"
          ],
          [
           "Algeria"
          ],
          [
           "Hungary"
          ],
          [
           "Angola"
          ],
          [
           "Liberia"
          ],
          [
           "Cambodia"
          ],
          [
           "Iran"
          ],
          [
           "Sao Tome and Principe"
          ],
          [
           "Burkina Faso"
          ],
          [
           "Mali"
          ],
          [
           "Dominican Republic"
          ],
          [
           "Lebanon"
          ],
          [
           "Oman"
          ],
          [
           "Palestine"
          ],
          [
           "China"
          ],
          [
           "Comoros"
          ],
          [
           "Malaysia"
          ],
          [
           "Nepal"
          ],
          [
           "Gabon"
          ],
          [
           "Saudi Arabia"
          ],
          [
           "Suriname"
          ],
          [
           "Djibouti"
          ],
          [
           "Estonia"
          ],
          [
           "Croatia"
          ],
          [
           "Saint Vincent and the Grenadines"
          ],
          [
           "Vietnam"
          ],
          [
           "Cameroon"
          ],
          [
           "Grenada"
          ],
          [
           "Namibia"
          ],
          [
           "Seychelles"
          ],
          [
           "Senegal"
          ],
          [
           "Honduras"
          ],
          [
           "Niger"
          ],
          [
           "Botswana"
          ],
          [
           "Bahamas"
          ],
          [
           "Benin"
          ],
          [
           "Zambia"
          ],
          [
           "World"
          ],
          [
           "Mauritania"
          ],
          [
           "Trinidad and Tobago"
          ],
          [
           "Tonga"
          ],
          [
           "Czechia"
          ],
          [
           "Dominica"
          ],
          [
           "Malawi"
          ],
          [
           "Poland"
          ],
          [
           "Mauritius"
          ],
          [
           "Kenya"
          ],
          [
           "Iraq"
          ],
          [
           "Tanzania"
          ],
          [
           "Bhutan"
          ],
          [
           "Uganda"
          ],
          [
           "Jordan"
          ],
          [
           "Jamaica"
          ],
          [
           "Venezuela"
          ],
          [
           "Saint Lucia"
          ],
          [
           "Bolivia"
          ],
          [
           "Equatorial Guinea"
          ],
          [
           "Myanmar"
          ],
          [
           "Brunei"
          ],
          [
           "South Africa"
          ],
          [
           "Paraguay"
          ],
          [
           "Sri Lanka"
          ],
          [
           "Antigua and Barbuda"
          ],
          [
           "Rwanda"
          ],
          [
           "Argentina"
          ],
          [
           "Cuba"
          ],
          [
           "Ethiopia"
          ],
          [
           "Cape Verde"
          ],
          [
           "Nigeria"
          ],
          [
           "Brazil"
          ],
          [
           "Belize"
          ],
          [
           "Qatar"
          ],
          [
           "Greece"
          ],
          [
           "Turkey"
          ],
          [
           "Barbados"
          ],
          [
           "Malta"
          ],
          [
           "El Salvador"
          ],
          [
           "Maldives"
          ],
          [
           "Uruguay"
          ],
          [
           "Germany"
          ],
          [
           "Guatemala"
          ],
          [
           "Finland"
          ],
          [
           "Slovenia"
          ],
          [
           "Mexico"
          ],
          [
           "Bahrain"
          ],
          [
           "United States"
          ],
          [
           "Austria"
          ],
          [
           "Cyprus"
          ],
          [
           "Ecuador"
          ],
          [
           "Costa Rica"
          ],
          [
           "Nicaragua"
          ],
          [
           "Sweden"
          ],
          [
           "Kuwait"
          ],
          [
           "New Zealand"
          ],
          [
           "Panama"
          ],
          [
           "Luxembourg"
          ],
          [
           "Chile"
          ],
          [
           "Portugal"
          ],
          [
           "Ireland"
          ],
          [
           "Colombia"
          ],
          [
           "United Kingdom"
          ],
          [
           "Iceland"
          ],
          [
           "Belgium"
          ],
          [
           "Denmark"
          ],
          [
           "Norway"
          ],
          [
           "Italy"
          ],
          [
           "Thailand"
          ],
          [
           "Netherlands"
          ],
          [
           "Andorra"
          ],
          [
           "Australia"
          ],
          [
           "Canada"
          ],
          [
           "Switzerland"
          ],
          [
           "Spain"
          ],
          [
           "Israel"
          ],
          [
           "Singapore"
          ],
          [
           "France"
          ],
          [
           "South Korea"
          ],
          [
           "Peru"
          ],
          [
           "Japan"
          ]
         ],
         "hovertemplate": "65_Older=%{x}<br>percent_deaths=%{y}<br>location=%{customdata[0]}<extra></extra>",
         "legendgroup": "",
         "marker": {
          "color": "#636efa",
          "symbol": "circle"
         },
         "mode": "markers",
         "name": "",
         "orientation": "v",
         "showlegend": false,
         "type": "scatter",
         "x": [
          4.469,
          2.581,
          3.808,
          6.018,
          null,
          4.394,
          16.462,
          5.159,
          14.864,
          2.922,
          6.991,
          4.031,
          3.507,
          4.81,
          14.799,
          17.366,
          4.489,
          3.655,
          3.548,
          14.178,
          4.8,
          3.466,
          20.801,
          4.495,
          6.769,
          6.224,
          10.864,
          2.929,
          4.506,
          14.762,
          3.002,
          null,
          5.305,
          17.85,
          4.803,
          4.029,
          19.754,
          5.606,
          3.402,
          19.002,
          5.319,
          4.424,
          11.232,
          3.135,
          3.556,
          3.163,
          2.339,
          3.158,
          16.569,
          2.538,
          13.26,
          8.001,
          3.02,
          1.144,
          3.607,
          2.822,
          13.188,
          2.933,
          3.385,
          5.098,
          2.562,
          15.07,
          5.989,
          2.486,
          3.441,
          2.839,
          6.211,
          18.577,
          2.405,
          3.057,
          4.412,
          5.44,
          2.886,
          2.409,
          2.519,
          6.981,
          8.514,
          2.355,
          3.043,
          10.641,
          2.963,
          6.293,
          5.809,
          4.45,
          3.295,
          6.933,
          4.213,
          19.452,
          19.724,
          7.724,
          7.15,
          3.165,
          7.304,
          3.552,
          8.606,
          3.008,
          4.652,
          2.553,
          3.941,
          8.996,
          3.244,
          2.48,
          8.696,
          3.138,
          10.014,
          5.82,
          19.027,
          null,
          2.979,
          16.763,
          10.945,
          2.686,
          3.186,
          3.108,
          4.885,
          2.168,
          3.81,
          9.684,
          6.614,
          9.721,
          6.704,
          2.846,
          5.732,
          4.591,
          5.344,
          6.378,
          10.069,
          6.933,
          2.974,
          11.198,
          14.738,
          3.526,
          4.46,
          2.751,
          8.552,
          3.853,
          1.307,
          20.396,
          8.153,
          14.952,
          19.426,
          8.273,
          4.12,
          14.655,
          21.453,
          4.694,
          21.228,
          19.062,
          6.857,
          2.372,
          15.413,
          19.202,
          13.416,
          7.104,
          9.468,
          5.445,
          19.985,
          2.345,
          15.322,
          7.918,
          14.312,
          11.087,
          21.502,
          13.928,
          7.646,
          18.517,
          14.431,
          18.571,
          19.677,
          16.821,
          23.021,
          11.373,
          18.779,
          null,
          15.504,
          16.984,
          18.436,
          19.436,
          11.733,
          12.922,
          19.718,
          13.914,
          7.151,
          27.049
         ],
         "xaxis": "x",
         "y": [
          0.0019390963016473,
          0.0067431591806082,
          0.0011959279881462,
          0.0445499757130141,
          null,
          0.0003255738238645,
          0.1050058377099485,
          0.0130347171713113,
          0.1030288217488578,
          0.0041105120209342,
          0.0177560421004598,
          0.0035079242483585,
          null,
          null,
          0.0269014038151524,
          0.0934956314820159,
          0.0245854236946772,
          0.0018220351967508,
          0.0053569878211652,
          0.0742045436012851,
          0.0022275752238559,
          0.0009436294631314,
          0.2360096395668383,
          0.0081292998804924,
          0.0244455800424366,
          0.0002231037298481,
          0.144076680921466,
          0.0023220525037377,
          0.0147508323017086,
          0.2380338246860978,
          0.0034044750045477,
          0.0090968013372297,
          0.0376322691622624,
          0.1461142771774687,
          0.0157271667824789,
          null,
          0.1129783554465534,
          null,
          0.0026095976652799,
          0.1441065631851995,
          0.0166424383508728,
          0.0440819892983657,
          0.1386323186086552,
          0.0010964918960111,
          0.0002275412949526,
          0.057836650680421,
          0.0072000079448363,
          0.0026043470519607,
          0.2606364577094411,
          0.0009903491105975,
          0.2330347800209275,
          0.0907212670720045,
          0.0008552791334088,
          0.0160458626546954,
          0.0002819739416601,
          0.0105430108080326,
          0.0831885468065883,
          0.0010842255606175,
          0.0025070040834558,
          0.0069524821767047,
          0.00005045925915211121,
          0.2140066667362682,
          0.0153516178863446,
          0.0010349534840156,
          0.001027360944686,
          0.0014857338746236,
          0.0074182956149982,
          0.2850828386135078,
          0.0018134094202603,
          0.0016806134515905,
          0.0005562543292885,
          0.0854333577246653,
          0.0159699946614589,
          0.0007510783715357,
          0.0023900250231669,
          0.0320799299108841,
          0.1066304570458587,
          0.0393606575932191,
          0.0636881995116649,
          0.0003354352986599,
          0.016789424962195,
          0.004653031245939,
          0.0112538065254093,
          0.0062451476550593,
          0.0199834163783069,
          0.0347746635892225,
          0.0144736549116297,
          0.0875209850596175,
          0.1724856939912327,
          0.0099146439290832,
          0.00003595696477315681,
          0.0041701411564528,
          0.000888738790782,
          0.0252664787029559,
          0.0284726459223103,
          0.0066113510985772,
          0.0533186169508172,
          0.0007890398318874,
          0.0302769361611651,
          0.0506041988770445,
          0.0008166162096832,
          0.0068048465738277,
          0.0407992702642623,
          0.0097856617473105,
          0.0120758189941914,
          null,
          0.27329395081624,
          null,
          0.0060010595947559,
          0.1783568169456679,
          0.0013367228430994,
          0.0050658994668159,
          0.0384486266307196,
          0.00003515573227691139,
          0.0001295988139116,
          0.0007476880697842,
          0.0866007915210415,
          0.0262734785443952,
          0.0075116200647891,
          0.0402986456387607,
          0.1109480666928866,
          0.0079829791480308,
          0.0058978352316496,
          0.0006857409316476,
          0.0916391847467883,
          0.0895194271878281,
          0.0031662638786732,
          0.0326770688669226,
          0.002586431395602,
          0.1413074500301211,
          0.0056857229025862,
          0.0032079723889607,
          0.0390296193443023,
          0.0010007781765857,
          0.1899614803690012,
          0.0812331340648507,
          0.0158969268255433,
          0.099596509891149,
          0.0475829309328261,
          0.0153112179029895,
          0.0935364712969862,
          0.0327464412527456,
          0.0135049635365984,
          0.0753081632494436,
          0.0991800994808731,
          0.0419969962435461,
          0.0164960570092179,
          0.2044318909901815,
          0.1682326600130845,
          0.03796464821287,
          0.1740868253539978,
          0.1133083140877598,
          0.0351638716336015,
          0.1055995955350149,
          0.063426142406707,
          0.002747354765317,
          0.1390991626127433,
          0.0365993898228406,
          0.0005391693018566,
          0.144434185105665,
          0.1271614247191585,
          0.1378568313414024,
          0.1664655069523916,
          0.0992953131316077,
          0.1448817248644947,
          0.1882199458963588,
          0.0084981684981684,
          0.2090664608732506,
          0.0428852372750057,
          0.0139451439356516,
          0.1998070584303207,
          0.0002908310372246,
          0.1015356227034773,
          0.16178088397075,
          0.0035686441046528,
          0.0641722729307707,
          0.1228477097429372,
          0.1672898364216555,
          0.0735136024426433,
          0.0005127904466456,
          0.1536002241719517,
          0.0035713461632497,
          0.186453012063686,
          0.0080639513165367
         ],
         "yaxis": "y"
        }
       ],
       "layout": {
        "legend": {
         "tracegroupgap": 0
        },
        "template": {
         "data": {
          "bar": [
           {
            "error_x": {
             "color": "#2a3f5f"
            },
            "error_y": {
             "color": "#2a3f5f"
            },
            "marker": {
             "line": {
              "color": "#E5ECF6",
              "width": 0.5
             },
             "pattern": {
              "fillmode": "overlay",
              "size": 10,
              "solidity": 0.2
             }
            },
            "type": "bar"
           }
          ],
          "barpolar": [
           {
            "marker": {
             "line": {
              "color": "#E5ECF6",
              "width": 0.5
             },
             "pattern": {
              "fillmode": "overlay",
              "size": 10,
              "solidity": 0.2
             }
            },
            "type": "barpolar"
           }
          ],
          "carpet": [
           {
            "aaxis": {
             "endlinecolor": "#2a3f5f",
             "gridcolor": "white",
             "linecolor": "white",
             "minorgridcolor": "white",
             "startlinecolor": "#2a3f5f"
            },
            "baxis": {
             "endlinecolor": "#2a3f5f",
             "gridcolor": "white",
             "linecolor": "white",
             "minorgridcolor": "white",
             "startlinecolor": "#2a3f5f"
            },
            "type": "carpet"
           }
          ],
          "choropleth": [
           {
            "colorbar": {
             "outlinewidth": 0,
             "ticks": ""
            },
            "type": "choropleth"
           }
          ],
          "contour": [
           {
            "colorbar": {
             "outlinewidth": 0,
             "ticks": ""
            },
            "colorscale": [
             [
              0,
              "#0d0887"
             ],
             [
              0.1111111111111111,
              "#46039f"
             ],
             [
              0.2222222222222222,
              "#7201a8"
             ],
             [
              0.3333333333333333,
              "#9c179e"
             ],
             [
              0.4444444444444444,
              "#bd3786"
             ],
             [
              0.5555555555555556,
              "#d8576b"
             ],
             [
              0.6666666666666666,
              "#ed7953"
             ],
             [
              0.7777777777777778,
              "#fb9f3a"
             ],
             [
              0.8888888888888888,
              "#fdca26"
             ],
             [
              1,
              "#f0f921"
             ]
            ],
            "type": "contour"
           }
          ],
          "contourcarpet": [
           {
            "colorbar": {
             "outlinewidth": 0,
             "ticks": ""
            },
            "type": "contourcarpet"
           }
          ],
          "heatmap": [
           {
            "colorbar": {
             "outlinewidth": 0,
             "ticks": ""
            },
            "colorscale": [
             [
              0,
              "#0d0887"
             ],
             [
              0.1111111111111111,
              "#46039f"
             ],
             [
              0.2222222222222222,
              "#7201a8"
             ],
             [
              0.3333333333333333,
              "#9c179e"
             ],
             [
              0.4444444444444444,
              "#bd3786"
             ],
             [
              0.5555555555555556,
              "#d8576b"
             ],
             [
              0.6666666666666666,
              "#ed7953"
             ],
             [
              0.7777777777777778,
              "#fb9f3a"
             ],
             [
              0.8888888888888888,
              "#fdca26"
             ],
             [
              1,
              "#f0f921"
             ]
            ],
            "type": "heatmap"
           }
          ],
          "heatmapgl": [
           {
            "colorbar": {
             "outlinewidth": 0,
             "ticks": ""
            },
            "colorscale": [
             [
              0,
              "#0d0887"
             ],
             [
              0.1111111111111111,
              "#46039f"
             ],
             [
              0.2222222222222222,
              "#7201a8"
             ],
             [
              0.3333333333333333,
              "#9c179e"
             ],
             [
              0.4444444444444444,
              "#bd3786"
             ],
             [
              0.5555555555555556,
              "#d8576b"
             ],
             [
              0.6666666666666666,
              "#ed7953"
             ],
             [
              0.7777777777777778,
              "#fb9f3a"
             ],
             [
              0.8888888888888888,
              "#fdca26"
             ],
             [
              1,
              "#f0f921"
             ]
            ],
            "type": "heatmapgl"
           }
          ],
          "histogram": [
           {
            "marker": {
             "pattern": {
              "fillmode": "overlay",
              "size": 10,
              "solidity": 0.2
             }
            },
            "type": "histogram"
           }
          ],
          "histogram2d": [
           {
            "colorbar": {
             "outlinewidth": 0,
             "ticks": ""
            },
            "colorscale": [
             [
              0,
              "#0d0887"
             ],
             [
              0.1111111111111111,
              "#46039f"
             ],
             [
              0.2222222222222222,
              "#7201a8"
             ],
             [
              0.3333333333333333,
              "#9c179e"
             ],
             [
              0.4444444444444444,
              "#bd3786"
             ],
             [
              0.5555555555555556,
              "#d8576b"
             ],
             [
              0.6666666666666666,
              "#ed7953"
             ],
             [
              0.7777777777777778,
              "#fb9f3a"
             ],
             [
              0.8888888888888888,
              "#fdca26"
             ],
             [
              1,
              "#f0f921"
             ]
            ],
            "type": "histogram2d"
           }
          ],
          "histogram2dcontour": [
           {
            "colorbar": {
             "outlinewidth": 0,
             "ticks": ""
            },
            "colorscale": [
             [
              0,
              "#0d0887"
             ],
             [
              0.1111111111111111,
              "#46039f"
             ],
             [
              0.2222222222222222,
              "#7201a8"
             ],
             [
              0.3333333333333333,
              "#9c179e"
             ],
             [
              0.4444444444444444,
              "#bd3786"
             ],
             [
              0.5555555555555556,
              "#d8576b"
             ],
             [
              0.6666666666666666,
              "#ed7953"
             ],
             [
              0.7777777777777778,
              "#fb9f3a"
             ],
             [
              0.8888888888888888,
              "#fdca26"
             ],
             [
              1,
              "#f0f921"
             ]
            ],
            "type": "histogram2dcontour"
           }
          ],
          "mesh3d": [
           {
            "colorbar": {
             "outlinewidth": 0,
             "ticks": ""
            },
            "type": "mesh3d"
           }
          ],
          "parcoords": [
           {
            "line": {
             "colorbar": {
              "outlinewidth": 0,
              "ticks": ""
             }
            },
            "type": "parcoords"
           }
          ],
          "pie": [
           {
            "automargin": true,
            "type": "pie"
           }
          ],
          "scatter": [
           {
            "fillpattern": {
             "fillmode": "overlay",
             "size": 10,
             "solidity": 0.2
            },
            "type": "scatter"
           }
          ],
          "scatter3d": [
           {
            "line": {
             "colorbar": {
              "outlinewidth": 0,
              "ticks": ""
             }
            },
            "marker": {
             "colorbar": {
              "outlinewidth": 0,
              "ticks": ""
             }
            },
            "type": "scatter3d"
           }
          ],
          "scattercarpet": [
           {
            "marker": {
             "colorbar": {
              "outlinewidth": 0,
              "ticks": ""
             }
            },
            "type": "scattercarpet"
           }
          ],
          "scattergeo": [
           {
            "marker": {
             "colorbar": {
              "outlinewidth": 0,
              "ticks": ""
             }
            },
            "type": "scattergeo"
           }
          ],
          "scattergl": [
           {
            "marker": {
             "colorbar": {
              "outlinewidth": 0,
              "ticks": ""
             }
            },
            "type": "scattergl"
           }
          ],
          "scattermapbox": [
           {
            "marker": {
             "colorbar": {
              "outlinewidth": 0,
              "ticks": ""
             }
            },
            "type": "scattermapbox"
           }
          ],
          "scatterpolar": [
           {
            "marker": {
             "colorbar": {
              "outlinewidth": 0,
              "ticks": ""
             }
            },
            "type": "scatterpolar"
           }
          ],
          "scatterpolargl": [
           {
            "marker": {
             "colorbar": {
              "outlinewidth": 0,
              "ticks": ""
             }
            },
            "type": "scatterpolargl"
           }
          ],
          "scatterternary": [
           {
            "marker": {
             "colorbar": {
              "outlinewidth": 0,
              "ticks": ""
             }
            },
            "type": "scatterternary"
           }
          ],
          "surface": [
           {
            "colorbar": {
             "outlinewidth": 0,
             "ticks": ""
            },
            "colorscale": [
             [
              0,
              "#0d0887"
             ],
             [
              0.1111111111111111,
              "#46039f"
             ],
             [
              0.2222222222222222,
              "#7201a8"
             ],
             [
              0.3333333333333333,
              "#9c179e"
             ],
             [
              0.4444444444444444,
              "#bd3786"
             ],
             [
              0.5555555555555556,
              "#d8576b"
             ],
             [
              0.6666666666666666,
              "#ed7953"
             ],
             [
              0.7777777777777778,
              "#fb9f3a"
             ],
             [
              0.8888888888888888,
              "#fdca26"
             ],
             [
              1,
              "#f0f921"
             ]
            ],
            "type": "surface"
           }
          ],
          "table": [
           {
            "cells": {
             "fill": {
              "color": "#EBF0F8"
             },
             "line": {
              "color": "white"
             }
            },
            "header": {
             "fill": {
              "color": "#C8D4E3"
             },
             "line": {
              "color": "white"
             }
            },
            "type": "table"
           }
          ]
         },
         "layout": {
          "annotationdefaults": {
           "arrowcolor": "#2a3f5f",
           "arrowhead": 0,
           "arrowwidth": 1
          },
          "autotypenumbers": "strict",
          "coloraxis": {
           "colorbar": {
            "outlinewidth": 0,
            "ticks": ""
           }
          },
          "colorscale": {
           "diverging": [
            [
             0,
             "#8e0152"
            ],
            [
             0.1,
             "#c51b7d"
            ],
            [
             0.2,
             "#de77ae"
            ],
            [
             0.3,
             "#f1b6da"
            ],
            [
             0.4,
             "#fde0ef"
            ],
            [
             0.5,
             "#f7f7f7"
            ],
            [
             0.6,
             "#e6f5d0"
            ],
            [
             0.7,
             "#b8e186"
            ],
            [
             0.8,
             "#7fbc41"
            ],
            [
             0.9,
             "#4d9221"
            ],
            [
             1,
             "#276419"
            ]
           ],
           "sequential": [
            [
             0,
             "#0d0887"
            ],
            [
             0.1111111111111111,
             "#46039f"
            ],
            [
             0.2222222222222222,
             "#7201a8"
            ],
            [
             0.3333333333333333,
             "#9c179e"
            ],
            [
             0.4444444444444444,
             "#bd3786"
            ],
            [
             0.5555555555555556,
             "#d8576b"
            ],
            [
             0.6666666666666666,
             "#ed7953"
            ],
            [
             0.7777777777777778,
             "#fb9f3a"
            ],
            [
             0.8888888888888888,
             "#fdca26"
            ],
            [
             1,
             "#f0f921"
            ]
           ],
           "sequentialminus": [
            [
             0,
             "#0d0887"
            ],
            [
             0.1111111111111111,
             "#46039f"
            ],
            [
             0.2222222222222222,
             "#7201a8"
            ],
            [
             0.3333333333333333,
             "#9c179e"
            ],
            [
             0.4444444444444444,
             "#bd3786"
            ],
            [
             0.5555555555555556,
             "#d8576b"
            ],
            [
             0.6666666666666666,
             "#ed7953"
            ],
            [
             0.7777777777777778,
             "#fb9f3a"
            ],
            [
             0.8888888888888888,
             "#fdca26"
            ],
            [
             1,
             "#f0f921"
            ]
           ]
          },
          "colorway": [
           "#636efa",
           "#EF553B",
           "#00cc96",
           "#ab63fa",
           "#FFA15A",
           "#19d3f3",
           "#FF6692",
           "#B6E880",
           "#FF97FF",
           "#FECB52"
          ],
          "font": {
           "color": "#2a3f5f"
          },
          "geo": {
           "bgcolor": "white",
           "lakecolor": "white",
           "landcolor": "#E5ECF6",
           "showlakes": true,
           "showland": true,
           "subunitcolor": "white"
          },
          "hoverlabel": {
           "align": "left"
          },
          "hovermode": "closest",
          "mapbox": {
           "style": "light"
          },
          "paper_bgcolor": "white",
          "plot_bgcolor": "#E5ECF6",
          "polar": {
           "angularaxis": {
            "gridcolor": "white",
            "linecolor": "white",
            "ticks": ""
           },
           "bgcolor": "#E5ECF6",
           "radialaxis": {
            "gridcolor": "white",
            "linecolor": "white",
            "ticks": ""
           }
          },
          "scene": {
           "xaxis": {
            "backgroundcolor": "#E5ECF6",
            "gridcolor": "white",
            "gridwidth": 2,
            "linecolor": "white",
            "showbackground": true,
            "ticks": "",
            "zerolinecolor": "white"
           },
           "yaxis": {
            "backgroundcolor": "#E5ECF6",
            "gridcolor": "white",
            "gridwidth": 2,
            "linecolor": "white",
            "showbackground": true,
            "ticks": "",
            "zerolinecolor": "white"
           },
           "zaxis": {
            "backgroundcolor": "#E5ECF6",
            "gridcolor": "white",
            "gridwidth": 2,
            "linecolor": "white",
            "showbackground": true,
            "ticks": "",
            "zerolinecolor": "white"
           }
          },
          "shapedefaults": {
           "line": {
            "color": "#2a3f5f"
           }
          },
          "ternary": {
           "aaxis": {
            "gridcolor": "white",
            "linecolor": "white",
            "ticks": ""
           },
           "baxis": {
            "gridcolor": "white",
            "linecolor": "white",
            "ticks": ""
           },
           "bgcolor": "#E5ECF6",
           "caxis": {
            "gridcolor": "white",
            "linecolor": "white",
            "ticks": ""
           }
          },
          "title": {
           "x": 0.05
          },
          "xaxis": {
           "automargin": true,
           "gridcolor": "white",
           "linecolor": "white",
           "ticks": "",
           "title": {
            "standoff": 15
           },
           "zerolinecolor": "white",
           "zerolinewidth": 2
          },
          "yaxis": {
           "automargin": true,
           "gridcolor": "white",
           "linecolor": "white",
           "ticks": "",
           "title": {
            "standoff": 15
           },
           "zerolinecolor": "white",
           "zerolinewidth": 2
          }
         }
        },
        "title": {
         "text": "Persons Aged 65+ % Vs Covid Death %"
        },
        "xaxis": {
         "anchor": "y",
         "domain": [
          0,
          1
         ],
         "title": {
          "text": "65_Older"
         }
        },
        "yaxis": {
         "anchor": "x",
         "domain": [
          0,
          1
         ],
         "title": {
          "text": "percent_deaths"
         }
        }
       }
      }
     },
     "metadata": {},
     "output_type": "display_data"
    }
   ],
   "source": [
    "# interactive plot using plotly to view percentages for each country\n",
    "\n",
    "fig = px.scatter(countries_merged, x='65_Older', y='percent_deaths', hover_data=['location'], title='Persons Aged 65+ % Vs Covid Death %')\n",
    "fig.show()"
   ]
  },
  {
   "cell_type": "code",
   "execution_count": 113,
   "metadata": {},
   "outputs": [
    {
     "data": {
      "application/vnd.plotly.v1+json": {
       "config": {
        "plotlyServerURL": "https://plot.ly"
       },
       "data": [
        {
         "customdata": [
          [
           "Uzbekistan"
          ],
          [
           "Afghanistan"
          ],
          [
           "Papua New Guinea"
          ],
          [
           "Azerbaijan"
          ],
          [
           "Marshall Islands"
          ],
          [
           "Vanuatu"
          ],
          [
           "Ukraine"
          ],
          [
           "Egypt"
          ],
          [
           "Georgia"
          ],
          [
           "Yemen"
          ],
          [
           "Kazakhstan"
          ],
          [
           "Mongolia"
          ],
          [
           "Solomon Islands"
          ],
          [
           "Micronesia (country)"
          ],
          [
           "Belarus"
          ],
          [
           "Serbia"
          ],
          [
           "Kyrgyzstan"
          ],
          [
           "Central African Republic"
          ],
          [
           "Sudan"
          ],
          [
           "Russia"
          ],
          [
           "Haiti"
          ],
          [
           "Tajikistan"
          ],
          [
           "Bulgaria"
          ],
          [
           "Pakistan"
          ],
          [
           "Morocco"
          ],
          [
           "Fiji"
          ],
          [
           "Moldova"
          ],
          [
           "Madagascar"
          ],
          [
           "Lesotho"
          ],
          [
           "Montenegro"
          ],
          [
           "Guinea-Bissau"
          ],
          [
           "Syria"
          ],
          [
           "Guyana"
          ],
          [
           "Romania"
          ],
          [
           "Philippines"
          ],
          [
           "Laos"
          ],
          [
           "Latvia"
          ],
          [
           "Samoa"
          ],
          [
           "Congo"
          ],
          [
           "Lithuania"
          ],
          [
           "Indonesia"
          ],
          [
           "Libya"
          ],
          [
           "Armenia"
          ],
          [
           "Guinea"
          ],
          [
           "Timor"
          ],
          [
           "Eswatini"
          ],
          [
           "Gambia"
          ],
          [
           "Mozambique"
          ],
          [
           "Bosnia and Herzegovina"
          ],
          [
           "Sierra Leone"
          ],
          [
           "North Macedonia"
          ],
          [
           "Tunisia"
          ],
          [
           "Democratic Republic of Congo"
          ],
          [
           "United Arab Emirates"
          ],
          [
           "Eritrea"
          ],
          [
           "Zimbabwe"
          ],
          [
           "Albania"
          ],
          [
           "Cote d'Ivoire"
          ],
          [
           "Ghana"
          ],
          [
           "Bangladesh"
          ],
          [
           "Burundi"
          ],
          [
           "Slovakia"
          ],
          [
           "India"
          ],
          [
           "Chad"
          ],
          [
           "South Sudan"
          ],
          [
           "Togo"
          ],
          [
           "Algeria"
          ],
          [
           "Hungary"
          ],
          [
           "Angola"
          ],
          [
           "Liberia"
          ],
          [
           "Cambodia"
          ],
          [
           "Iran"
          ],
          [
           "Sao Tome and Principe"
          ],
          [
           "Burkina Faso"
          ],
          [
           "Mali"
          ],
          [
           "Dominican Republic"
          ],
          [
           "Lebanon"
          ],
          [
           "Oman"
          ],
          [
           "Palestine"
          ],
          [
           "China"
          ],
          [
           "Comoros"
          ],
          [
           "Malaysia"
          ],
          [
           "Nepal"
          ],
          [
           "Gabon"
          ],
          [
           "Saudi Arabia"
          ],
          [
           "Suriname"
          ],
          [
           "Djibouti"
          ],
          [
           "Estonia"
          ],
          [
           "Croatia"
          ],
          [
           "Saint Vincent and the Grenadines"
          ],
          [
           "Vietnam"
          ],
          [
           "Cameroon"
          ],
          [
           "Grenada"
          ],
          [
           "Namibia"
          ],
          [
           "Seychelles"
          ],
          [
           "Senegal"
          ],
          [
           "Honduras"
          ],
          [
           "Niger"
          ],
          [
           "Botswana"
          ],
          [
           "Bahamas"
          ],
          [
           "Benin"
          ],
          [
           "Zambia"
          ],
          [
           "World"
          ],
          [
           "Mauritania"
          ],
          [
           "Trinidad and Tobago"
          ],
          [
           "Tonga"
          ],
          [
           "Czechia"
          ],
          [
           "Dominica"
          ],
          [
           "Malawi"
          ],
          [
           "Poland"
          ],
          [
           "Mauritius"
          ],
          [
           "Kenya"
          ],
          [
           "Iraq"
          ],
          [
           "Tanzania"
          ],
          [
           "Bhutan"
          ],
          [
           "Uganda"
          ],
          [
           "Jordan"
          ],
          [
           "Jamaica"
          ],
          [
           "Venezuela"
          ],
          [
           "Saint Lucia"
          ],
          [
           "Bolivia"
          ],
          [
           "Equatorial Guinea"
          ],
          [
           "Myanmar"
          ],
          [
           "Brunei"
          ],
          [
           "South Africa"
          ],
          [
           "Paraguay"
          ],
          [
           "Sri Lanka"
          ],
          [
           "Antigua and Barbuda"
          ],
          [
           "Rwanda"
          ],
          [
           "Argentina"
          ],
          [
           "Cuba"
          ],
          [
           "Ethiopia"
          ],
          [
           "Cape Verde"
          ],
          [
           "Nigeria"
          ],
          [
           "Brazil"
          ],
          [
           "Belize"
          ],
          [
           "Qatar"
          ],
          [
           "Greece"
          ],
          [
           "Turkey"
          ],
          [
           "Barbados"
          ],
          [
           "Malta"
          ],
          [
           "El Salvador"
          ],
          [
           "Maldives"
          ],
          [
           "Uruguay"
          ],
          [
           "Germany"
          ],
          [
           "Guatemala"
          ],
          [
           "Finland"
          ],
          [
           "Slovenia"
          ],
          [
           "Mexico"
          ],
          [
           "Bahrain"
          ],
          [
           "United States"
          ],
          [
           "Austria"
          ],
          [
           "Cyprus"
          ],
          [
           "Ecuador"
          ],
          [
           "Costa Rica"
          ],
          [
           "Nicaragua"
          ],
          [
           "Sweden"
          ],
          [
           "Kuwait"
          ],
          [
           "New Zealand"
          ],
          [
           "Panama"
          ],
          [
           "Luxembourg"
          ],
          [
           "Chile"
          ],
          [
           "Portugal"
          ],
          [
           "Ireland"
          ],
          [
           "Colombia"
          ],
          [
           "United Kingdom"
          ],
          [
           "Iceland"
          ],
          [
           "Belgium"
          ],
          [
           "Denmark"
          ],
          [
           "Norway"
          ],
          [
           "Italy"
          ],
          [
           "Thailand"
          ],
          [
           "Netherlands"
          ],
          [
           "Andorra"
          ],
          [
           "Australia"
          ],
          [
           "Canada"
          ],
          [
           "Switzerland"
          ],
          [
           "Spain"
          ],
          [
           "Israel"
          ],
          [
           "Singapore"
          ],
          [
           "France"
          ],
          [
           "South Korea"
          ],
          [
           "Peru"
          ],
          [
           "Japan"
          ]
         ],
         "hovertemplate": "development_index=%{x}<br>65_Older=%{y}<br>location=%{customdata[0]}<extra></extra>",
         "legendgroup": "",
         "marker": {
          "color": "#636efa",
          "symbol": "circle"
         },
         "mode": "markers",
         "name": "",
         "orientation": "v",
         "showlegend": false,
         "type": "scatter",
         "x": [
          0.72,
          0.511,
          0.555,
          0.756,
          0.704,
          0.609,
          0.779,
          0.707,
          0.812,
          0.47,
          0.825,
          0.737,
          0.567,
          0.62,
          0.823,
          0.806,
          0.697,
          0.397,
          0.51,
          0.824,
          0.51,
          0.668,
          0.816,
          0.557,
          0.686,
          0.743,
          0.75,
          0.528,
          0.527,
          0.829,
          0.48,
          0.567,
          0.682,
          0.828,
          0.718,
          0.613,
          0.866,
          0.715,
          0.574,
          0.882,
          0.718,
          0.724,
          0.776,
          0.477,
          0.606,
          0.611,
          0.496,
          0.456,
          0.78,
          0.452,
          0.774,
          0.74,
          0.48,
          0.89,
          0.459,
          0.571,
          0.795,
          0.538,
          0.611,
          0.632,
          0.433,
          0.86,
          0.645,
          0.398,
          0.433,
          0.515,
          0.748,
          0.854,
          0.581,
          0.48,
          0.594,
          0.783,
          0.625,
          0.452,
          0.434,
          0.756,
          0.744,
          0.813,
          0.708,
          0.761,
          0.554,
          0.81,
          0.602,
          0.703,
          0.854,
          0.738,
          0.524,
          0.892,
          0.851,
          0.738,
          0.704,
          0.563,
          0.779,
          0.646,
          0.796,
          0.512,
          0.634,
          0.394,
          0.735,
          0.814,
          0.545,
          0.584,
          0.737,
          0.546,
          0.796,
          0.725,
          0.9,
          0.742,
          0.483,
          0.88,
          0.804,
          0.601,
          0.674,
          0.529,
          0.654,
          0.544,
          0.729,
          0.734,
          0.711,
          0.759,
          0.718,
          0.592,
          0.583,
          0.838,
          0.709,
          0.728,
          0.782,
          0.778,
          0.543,
          0.845,
          0.783,
          0.485,
          0.665,
          0.539,
          0.765,
          0.716,
          0.848,
          0.888,
          0.82,
          0.814,
          0.895,
          0.673,
          0.74,
          0.817,
          0.947,
          0.663,
          0.938,
          0.917,
          0.779,
          0.852,
          0.926,
          0.922,
          0.887,
          0.759,
          0.81,
          0.66,
          0.945,
          0.806,
          0.931,
          0.815,
          0.916,
          0.851,
          0.864,
          0.955,
          0.767,
          0.932,
          0.949,
          0.931,
          0.94,
          0.957,
          0.892,
          0.777,
          0.944,
          0.868,
          0.944,
          0.929,
          0.955,
          0.904,
          0.919,
          0.938,
          0.901,
          0.916,
          0.777,
          0.919
         ],
         "xaxis": "x",
         "y": [
          4.469,
          2.581,
          3.808,
          6.018,
          null,
          4.394,
          16.462,
          5.159,
          14.864,
          2.922,
          6.991,
          4.031,
          3.507,
          4.81,
          14.799,
          17.366,
          4.489,
          3.655,
          3.548,
          14.178,
          4.8,
          3.466,
          20.801,
          4.495,
          6.769,
          6.224,
          10.864,
          2.929,
          4.506,
          14.762,
          3.002,
          null,
          5.305,
          17.85,
          4.803,
          4.029,
          19.754,
          5.606,
          3.402,
          19.002,
          5.319,
          4.424,
          11.232,
          3.135,
          3.556,
          3.163,
          2.339,
          3.158,
          16.569,
          2.538,
          13.26,
          8.001,
          3.02,
          1.144,
          3.607,
          2.822,
          13.188,
          2.933,
          3.385,
          5.098,
          2.562,
          15.07,
          5.989,
          2.486,
          3.441,
          2.839,
          6.211,
          18.577,
          2.405,
          3.057,
          4.412,
          5.44,
          2.886,
          2.409,
          2.519,
          6.981,
          8.514,
          2.355,
          3.043,
          10.641,
          2.963,
          6.293,
          5.809,
          4.45,
          3.295,
          6.933,
          4.213,
          19.452,
          19.724,
          7.724,
          7.15,
          3.165,
          7.304,
          3.552,
          8.606,
          3.008,
          4.652,
          2.553,
          3.941,
          8.996,
          3.244,
          2.48,
          8.696,
          3.138,
          10.014,
          5.82,
          19.027,
          null,
          2.979,
          16.763,
          10.945,
          2.686,
          3.186,
          3.108,
          4.885,
          2.168,
          3.81,
          9.684,
          6.614,
          9.721,
          6.704,
          2.846,
          5.732,
          4.591,
          5.344,
          6.378,
          10.069,
          6.933,
          2.974,
          11.198,
          14.738,
          3.526,
          4.46,
          2.751,
          8.552,
          3.853,
          1.307,
          20.396,
          8.153,
          14.952,
          19.426,
          8.273,
          4.12,
          14.655,
          21.453,
          4.694,
          21.228,
          19.062,
          6.857,
          2.372,
          15.413,
          19.202,
          13.416,
          7.104,
          9.468,
          5.445,
          19.985,
          2.345,
          15.322,
          7.918,
          14.312,
          11.087,
          21.502,
          13.928,
          7.646,
          18.517,
          14.431,
          18.571,
          19.677,
          16.821,
          23.021,
          11.373,
          18.779,
          null,
          15.504,
          16.984,
          18.436,
          19.436,
          11.733,
          12.922,
          19.718,
          13.914,
          7.151,
          27.049
         ],
         "yaxis": "y"
        }
       ],
       "layout": {
        "legend": {
         "tracegroupgap": 0
        },
        "template": {
         "data": {
          "bar": [
           {
            "error_x": {
             "color": "#2a3f5f"
            },
            "error_y": {
             "color": "#2a3f5f"
            },
            "marker": {
             "line": {
              "color": "#E5ECF6",
              "width": 0.5
             },
             "pattern": {
              "fillmode": "overlay",
              "size": 10,
              "solidity": 0.2
             }
            },
            "type": "bar"
           }
          ],
          "barpolar": [
           {
            "marker": {
             "line": {
              "color": "#E5ECF6",
              "width": 0.5
             },
             "pattern": {
              "fillmode": "overlay",
              "size": 10,
              "solidity": 0.2
             }
            },
            "type": "barpolar"
           }
          ],
          "carpet": [
           {
            "aaxis": {
             "endlinecolor": "#2a3f5f",
             "gridcolor": "white",
             "linecolor": "white",
             "minorgridcolor": "white",
             "startlinecolor": "#2a3f5f"
            },
            "baxis": {
             "endlinecolor": "#2a3f5f",
             "gridcolor": "white",
             "linecolor": "white",
             "minorgridcolor": "white",
             "startlinecolor": "#2a3f5f"
            },
            "type": "carpet"
           }
          ],
          "choropleth": [
           {
            "colorbar": {
             "outlinewidth": 0,
             "ticks": ""
            },
            "type": "choropleth"
           }
          ],
          "contour": [
           {
            "colorbar": {
             "outlinewidth": 0,
             "ticks": ""
            },
            "colorscale": [
             [
              0,
              "#0d0887"
             ],
             [
              0.1111111111111111,
              "#46039f"
             ],
             [
              0.2222222222222222,
              "#7201a8"
             ],
             [
              0.3333333333333333,
              "#9c179e"
             ],
             [
              0.4444444444444444,
              "#bd3786"
             ],
             [
              0.5555555555555556,
              "#d8576b"
             ],
             [
              0.6666666666666666,
              "#ed7953"
             ],
             [
              0.7777777777777778,
              "#fb9f3a"
             ],
             [
              0.8888888888888888,
              "#fdca26"
             ],
             [
              1,
              "#f0f921"
             ]
            ],
            "type": "contour"
           }
          ],
          "contourcarpet": [
           {
            "colorbar": {
             "outlinewidth": 0,
             "ticks": ""
            },
            "type": "contourcarpet"
           }
          ],
          "heatmap": [
           {
            "colorbar": {
             "outlinewidth": 0,
             "ticks": ""
            },
            "colorscale": [
             [
              0,
              "#0d0887"
             ],
             [
              0.1111111111111111,
              "#46039f"
             ],
             [
              0.2222222222222222,
              "#7201a8"
             ],
             [
              0.3333333333333333,
              "#9c179e"
             ],
             [
              0.4444444444444444,
              "#bd3786"
             ],
             [
              0.5555555555555556,
              "#d8576b"
             ],
             [
              0.6666666666666666,
              "#ed7953"
             ],
             [
              0.7777777777777778,
              "#fb9f3a"
             ],
             [
              0.8888888888888888,
              "#fdca26"
             ],
             [
              1,
              "#f0f921"
             ]
            ],
            "type": "heatmap"
           }
          ],
          "heatmapgl": [
           {
            "colorbar": {
             "outlinewidth": 0,
             "ticks": ""
            },
            "colorscale": [
             [
              0,
              "#0d0887"
             ],
             [
              0.1111111111111111,
              "#46039f"
             ],
             [
              0.2222222222222222,
              "#7201a8"
             ],
             [
              0.3333333333333333,
              "#9c179e"
             ],
             [
              0.4444444444444444,
              "#bd3786"
             ],
             [
              0.5555555555555556,
              "#d8576b"
             ],
             [
              0.6666666666666666,
              "#ed7953"
             ],
             [
              0.7777777777777778,
              "#fb9f3a"
             ],
             [
              0.8888888888888888,
              "#fdca26"
             ],
             [
              1,
              "#f0f921"
             ]
            ],
            "type": "heatmapgl"
           }
          ],
          "histogram": [
           {
            "marker": {
             "pattern": {
              "fillmode": "overlay",
              "size": 10,
              "solidity": 0.2
             }
            },
            "type": "histogram"
           }
          ],
          "histogram2d": [
           {
            "colorbar": {
             "outlinewidth": 0,
             "ticks": ""
            },
            "colorscale": [
             [
              0,
              "#0d0887"
             ],
             [
              0.1111111111111111,
              "#46039f"
             ],
             [
              0.2222222222222222,
              "#7201a8"
             ],
             [
              0.3333333333333333,
              "#9c179e"
             ],
             [
              0.4444444444444444,
              "#bd3786"
             ],
             [
              0.5555555555555556,
              "#d8576b"
             ],
             [
              0.6666666666666666,
              "#ed7953"
             ],
             [
              0.7777777777777778,
              "#fb9f3a"
             ],
             [
              0.8888888888888888,
              "#fdca26"
             ],
             [
              1,
              "#f0f921"
             ]
            ],
            "type": "histogram2d"
           }
          ],
          "histogram2dcontour": [
           {
            "colorbar": {
             "outlinewidth": 0,
             "ticks": ""
            },
            "colorscale": [
             [
              0,
              "#0d0887"
             ],
             [
              0.1111111111111111,
              "#46039f"
             ],
             [
              0.2222222222222222,
              "#7201a8"
             ],
             [
              0.3333333333333333,
              "#9c179e"
             ],
             [
              0.4444444444444444,
              "#bd3786"
             ],
             [
              0.5555555555555556,
              "#d8576b"
             ],
             [
              0.6666666666666666,
              "#ed7953"
             ],
             [
              0.7777777777777778,
              "#fb9f3a"
             ],
             [
              0.8888888888888888,
              "#fdca26"
             ],
             [
              1,
              "#f0f921"
             ]
            ],
            "type": "histogram2dcontour"
           }
          ],
          "mesh3d": [
           {
            "colorbar": {
             "outlinewidth": 0,
             "ticks": ""
            },
            "type": "mesh3d"
           }
          ],
          "parcoords": [
           {
            "line": {
             "colorbar": {
              "outlinewidth": 0,
              "ticks": ""
             }
            },
            "type": "parcoords"
           }
          ],
          "pie": [
           {
            "automargin": true,
            "type": "pie"
           }
          ],
          "scatter": [
           {
            "fillpattern": {
             "fillmode": "overlay",
             "size": 10,
             "solidity": 0.2
            },
            "type": "scatter"
           }
          ],
          "scatter3d": [
           {
            "line": {
             "colorbar": {
              "outlinewidth": 0,
              "ticks": ""
             }
            },
            "marker": {
             "colorbar": {
              "outlinewidth": 0,
              "ticks": ""
             }
            },
            "type": "scatter3d"
           }
          ],
          "scattercarpet": [
           {
            "marker": {
             "colorbar": {
              "outlinewidth": 0,
              "ticks": ""
             }
            },
            "type": "scattercarpet"
           }
          ],
          "scattergeo": [
           {
            "marker": {
             "colorbar": {
              "outlinewidth": 0,
              "ticks": ""
             }
            },
            "type": "scattergeo"
           }
          ],
          "scattergl": [
           {
            "marker": {
             "colorbar": {
              "outlinewidth": 0,
              "ticks": ""
             }
            },
            "type": "scattergl"
           }
          ],
          "scattermapbox": [
           {
            "marker": {
             "colorbar": {
              "outlinewidth": 0,
              "ticks": ""
             }
            },
            "type": "scattermapbox"
           }
          ],
          "scatterpolar": [
           {
            "marker": {
             "colorbar": {
              "outlinewidth": 0,
              "ticks": ""
             }
            },
            "type": "scatterpolar"
           }
          ],
          "scatterpolargl": [
           {
            "marker": {
             "colorbar": {
              "outlinewidth": 0,
              "ticks": ""
             }
            },
            "type": "scatterpolargl"
           }
          ],
          "scatterternary": [
           {
            "marker": {
             "colorbar": {
              "outlinewidth": 0,
              "ticks": ""
             }
            },
            "type": "scatterternary"
           }
          ],
          "surface": [
           {
            "colorbar": {
             "outlinewidth": 0,
             "ticks": ""
            },
            "colorscale": [
             [
              0,
              "#0d0887"
             ],
             [
              0.1111111111111111,
              "#46039f"
             ],
             [
              0.2222222222222222,
              "#7201a8"
             ],
             [
              0.3333333333333333,
              "#9c179e"
             ],
             [
              0.4444444444444444,
              "#bd3786"
             ],
             [
              0.5555555555555556,
              "#d8576b"
             ],
             [
              0.6666666666666666,
              "#ed7953"
             ],
             [
              0.7777777777777778,
              "#fb9f3a"
             ],
             [
              0.8888888888888888,
              "#fdca26"
             ],
             [
              1,
              "#f0f921"
             ]
            ],
            "type": "surface"
           }
          ],
          "table": [
           {
            "cells": {
             "fill": {
              "color": "#EBF0F8"
             },
             "line": {
              "color": "white"
             }
            },
            "header": {
             "fill": {
              "color": "#C8D4E3"
             },
             "line": {
              "color": "white"
             }
            },
            "type": "table"
           }
          ]
         },
         "layout": {
          "annotationdefaults": {
           "arrowcolor": "#2a3f5f",
           "arrowhead": 0,
           "arrowwidth": 1
          },
          "autotypenumbers": "strict",
          "coloraxis": {
           "colorbar": {
            "outlinewidth": 0,
            "ticks": ""
           }
          },
          "colorscale": {
           "diverging": [
            [
             0,
             "#8e0152"
            ],
            [
             0.1,
             "#c51b7d"
            ],
            [
             0.2,
             "#de77ae"
            ],
            [
             0.3,
             "#f1b6da"
            ],
            [
             0.4,
             "#fde0ef"
            ],
            [
             0.5,
             "#f7f7f7"
            ],
            [
             0.6,
             "#e6f5d0"
            ],
            [
             0.7,
             "#b8e186"
            ],
            [
             0.8,
             "#7fbc41"
            ],
            [
             0.9,
             "#4d9221"
            ],
            [
             1,
             "#276419"
            ]
           ],
           "sequential": [
            [
             0,
             "#0d0887"
            ],
            [
             0.1111111111111111,
             "#46039f"
            ],
            [
             0.2222222222222222,
             "#7201a8"
            ],
            [
             0.3333333333333333,
             "#9c179e"
            ],
            [
             0.4444444444444444,
             "#bd3786"
            ],
            [
             0.5555555555555556,
             "#d8576b"
            ],
            [
             0.6666666666666666,
             "#ed7953"
            ],
            [
             0.7777777777777778,
             "#fb9f3a"
            ],
            [
             0.8888888888888888,
             "#fdca26"
            ],
            [
             1,
             "#f0f921"
            ]
           ],
           "sequentialminus": [
            [
             0,
             "#0d0887"
            ],
            [
             0.1111111111111111,
             "#46039f"
            ],
            [
             0.2222222222222222,
             "#7201a8"
            ],
            [
             0.3333333333333333,
             "#9c179e"
            ],
            [
             0.4444444444444444,
             "#bd3786"
            ],
            [
             0.5555555555555556,
             "#d8576b"
            ],
            [
             0.6666666666666666,
             "#ed7953"
            ],
            [
             0.7777777777777778,
             "#fb9f3a"
            ],
            [
             0.8888888888888888,
             "#fdca26"
            ],
            [
             1,
             "#f0f921"
            ]
           ]
          },
          "colorway": [
           "#636efa",
           "#EF553B",
           "#00cc96",
           "#ab63fa",
           "#FFA15A",
           "#19d3f3",
           "#FF6692",
           "#B6E880",
           "#FF97FF",
           "#FECB52"
          ],
          "font": {
           "color": "#2a3f5f"
          },
          "geo": {
           "bgcolor": "white",
           "lakecolor": "white",
           "landcolor": "#E5ECF6",
           "showlakes": true,
           "showland": true,
           "subunitcolor": "white"
          },
          "hoverlabel": {
           "align": "left"
          },
          "hovermode": "closest",
          "mapbox": {
           "style": "light"
          },
          "paper_bgcolor": "white",
          "plot_bgcolor": "#E5ECF6",
          "polar": {
           "angularaxis": {
            "gridcolor": "white",
            "linecolor": "white",
            "ticks": ""
           },
           "bgcolor": "#E5ECF6",
           "radialaxis": {
            "gridcolor": "white",
            "linecolor": "white",
            "ticks": ""
           }
          },
          "scene": {
           "xaxis": {
            "backgroundcolor": "#E5ECF6",
            "gridcolor": "white",
            "gridwidth": 2,
            "linecolor": "white",
            "showbackground": true,
            "ticks": "",
            "zerolinecolor": "white"
           },
           "yaxis": {
            "backgroundcolor": "#E5ECF6",
            "gridcolor": "white",
            "gridwidth": 2,
            "linecolor": "white",
            "showbackground": true,
            "ticks": "",
            "zerolinecolor": "white"
           },
           "zaxis": {
            "backgroundcolor": "#E5ECF6",
            "gridcolor": "white",
            "gridwidth": 2,
            "linecolor": "white",
            "showbackground": true,
            "ticks": "",
            "zerolinecolor": "white"
           }
          },
          "shapedefaults": {
           "line": {
            "color": "#2a3f5f"
           }
          },
          "ternary": {
           "aaxis": {
            "gridcolor": "white",
            "linecolor": "white",
            "ticks": ""
           },
           "baxis": {
            "gridcolor": "white",
            "linecolor": "white",
            "ticks": ""
           },
           "bgcolor": "#E5ECF6",
           "caxis": {
            "gridcolor": "white",
            "linecolor": "white",
            "ticks": ""
           }
          },
          "title": {
           "x": 0.05
          },
          "xaxis": {
           "automargin": true,
           "gridcolor": "white",
           "linecolor": "white",
           "ticks": "",
           "title": {
            "standoff": 15
           },
           "zerolinecolor": "white",
           "zerolinewidth": 2
          },
          "yaxis": {
           "automargin": true,
           "gridcolor": "white",
           "linecolor": "white",
           "ticks": "",
           "title": {
            "standoff": 15
           },
           "zerolinecolor": "white",
           "zerolinewidth": 2
          }
         }
        },
        "title": {
         "text": "HDI Vs Persons aged 65+ %"
        },
        "xaxis": {
         "anchor": "y",
         "domain": [
          0,
          1
         ],
         "title": {
          "text": "development_index"
         }
        },
        "yaxis": {
         "anchor": "x",
         "domain": [
          0,
          1
         ],
         "title": {
          "text": "65_Older"
         }
        }
       }
      }
     },
     "metadata": {},
     "output_type": "display_data"
    }
   ],
   "source": [
    "fig = px.scatter(countries_merged, x='development_index', y='65_Older', hover_data=['location'], title='HDI Vs Persons aged 65+ %')\n",
    "fig.show()"
   ]
  },
  {
   "attachments": {},
   "cell_type": "markdown",
   "metadata": {},
   "source": [
    "# Discussion of Results\n",
    "\n",
    "Initially, the positive linear relationship between Human Development Index and Covid Death Rate is confusing. Human Development is a quantitative measure of a country's quality of life, educational achievement, and health. Based on this information, it would make sense for the correlation between HDI and Covid Death Rate to be negative. \n",
    "\n",
    "Based on the analysis, it is reasonable to assume that the fact that countries with higher HDIs also tend to have a high proportion of eldery in their populations is a likely cause for their higher Covid Death Rates.\n",
    "\n",
    "### Limitations\n",
    "\n",
    "This Dataset does not include Covid Death Rates for specific age groups, so further analysis cannot be done to support these findings.\n",
    "\n",
    "### Possible Follow-Up Analyses\n",
    "\n",
    "Ideas for possible follow-up analyses include:\n",
    "\n",
    "1. Case Study into specific populations, specifically those which appear to outly the rest of the datapoints\n",
    "        i.e. Japan has a high Human Development Index, the highest percent of individuals aged 65 or older, and a very low Covid Death Rate.\n",
    "\n",
    "2. Supplemental Datasets to support findings\n",
    "    \n",
    "3. Updated dataset on Covid Death Rate to conduct time series analysis\n",
    "\n",
    "### Data Sources\n",
    "\n",
    "OurWorldInData.org/CovidDeaths\n",
    "OurWorldInData.org/CovidVaccinations\n",
    "\n",
    "Data from Jan. 2020 - April 2021"
   ]
  }
 ],
 "metadata": {
  "kernelspec": {
   "display_name": "Python 3",
   "language": "python",
   "name": "python3"
  },
  "language_info": {
   "codemirror_mode": {
    "name": "ipython",
    "version": 3
   },
   "file_extension": ".py",
   "mimetype": "text/x-python",
   "name": "python",
   "nbconvert_exporter": "python",
   "pygments_lexer": "ipython3",
   "version": "3.7.3"
  },
  "orig_nbformat": 4
 },
 "nbformat": 4,
 "nbformat_minor": 2
}
